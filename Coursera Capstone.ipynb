{
    "nbformat_minor": 1, 
    "cells": [
        {
            "source": "# Applied Data Science Capstone", 
            "cell_type": "markdown", 
            "metadata": {
                "collapsed": true
            }
        }, 
        {
            "source": "*determine neighborhoods on the other side of the city that are exactly the same as your current neighborhood*", 
            "cell_type": "markdown", 
            "metadata": {}
        }, 
        {
            "execution_count": 20, 
            "cell_type": "code", 
            "metadata": {}, 
            "outputs": [], 
            "source": "import pandas as pd\nimport numpy as np"
        }, 
        {
            "source": "## Segmenting and Clustering Neighborhoods in Toronto", 
            "cell_type": "markdown", 
            "metadata": {}
        }, 
        {
            "source": "Download html Wikipedia page", 
            "cell_type": "markdown", 
            "metadata": {}
        }, 
        {
            "execution_count": 10, 
            "cell_type": "code", 
            "metadata": {}, 
            "outputs": [], 
            "source": "from urllib.request import Request, urlopen\nfrom urllib.error import URLError\n\ndata_url = \"https://en.wikipedia.org/wiki/List_of_postal_codes_of_Canada:_M\"\n\nreq = Request(data_url)\n\ntry:\n    with urlopen(req) as response:\n        page_bytes = response.read()\n        page = page_bytes.decode(\"utf8\")\nexcept URLError as e:\n    if hasattr(e, 'reason'):\n        print('We failed to reach a server.')\n        print('Reason: ', e.reason)\n    elif hasattr(e, 'code'):\n        print('The server couldn\\'t fulfill the request.')\n        print('Error code: ', e.code)    \n        "
        }, 
        {
            "source": "Declaring custom html parser. ", 
            "cell_type": "markdown", 
            "metadata": {}
        }, 
        {
            "execution_count": 16, 
            "cell_type": "code", 
            "metadata": {
                "tags": [
                    "hide_input"
                ]
            }, 
            "outputs": [], 
            "source": "from html.parser import HTMLParser\n\nclass TableParser(HTMLParser):\n    \n    def __init__(self):\n        \n        HTMLParser.__init__(self)\n        self._header = False\n        self._cell = False\n        self.tables = []\n        self._current_cell = []\n        self._current_row = []\n        self._data_separator=' '\n        self._current_table = []\n        \n    def handle_starttag(self, tag, attrs):\n        if(tag == 'td'):\n            self._cell = True\n        if(tag == 'th'):\n            self._header = True\n            \n    def handle_data(self, data):\n        if(self._header or self._cell):\n            self._current_cell.append(data.strip())\n            \n    def handle_charref(self, name):\n        \n        if self._parse_html_entities:\n            self.handle_data(self.unescape('&#{};'.format(name)))\n            \n    def handle_endtag(self, tag):\n        \n        if tag == 'td':\n            self._in_td = False\n        elif tag == 'th':\n            self._in_th = False\n\n        if tag in ['td', 'th']:\n            final_cell = self._data_separator.join(self._current_cell).strip()\n            self._current_row.append(final_cell)\n            self._current_cell = []\n        elif tag == 'tr':\n            self._current_table.append(self._current_row)\n            self._current_row = []\n        elif tag == 'table':\n            self.tables.append(self._current_table)\n            self._current_table = []"
        }, 
        {
            "source": "Parsing raw html text to padas dataframe", 
            "cell_type": "markdown", 
            "metadata": {}
        }, 
        {
            "execution_count": 64, 
            "cell_type": "code", 
            "metadata": {}, 
            "outputs": [], 
            "source": "parser = TableParser()\nparser.feed(page)\n\nif len(parser.tables) > 0:\n    table = np.array(parser.tables[0])\n    df_raw = pd.DataFrame(data=table[1:,0:], columns=table[0,0:])\nelse:   \n    print('Tables not found')"
        }, 
        {
            "execution_count": 47, 
            "cell_type": "code", 
            "metadata": {
                "scrolled": true
            }, 
            "outputs": [
                {
                    "execution_count": 47, 
                    "metadata": {}, 
                    "data": {
                        "text/html": "<div>\n<style scoped>\n    .dataframe tbody tr th:only-of-type {\n        vertical-align: middle;\n    }\n\n    .dataframe tbody tr th {\n        vertical-align: top;\n    }\n\n    .dataframe thead th {\n        text-align: right;\n    }\n</style>\n<table border=\"1\" class=\"dataframe\">\n  <thead>\n    <tr style=\"text-align: right;\">\n      <th></th>\n      <th>Postcode</th>\n      <th>Borough</th>\n      <th>Neighbourhood</th>\n    </tr>\n  </thead>\n  <tbody>\n    <tr>\n      <th>0</th>\n      <td>M1A</td>\n      <td>Not assigned</td>\n      <td>Not assigned</td>\n    </tr>\n    <tr>\n      <th>1</th>\n      <td>M2A</td>\n      <td>Not assigned</td>\n      <td>Not assigned</td>\n    </tr>\n    <tr>\n      <th>2</th>\n      <td>M3A</td>\n      <td>North York</td>\n      <td>Parkwoods</td>\n    </tr>\n    <tr>\n      <th>3</th>\n      <td>M4A</td>\n      <td>North York</td>\n      <td>Victoria Village</td>\n    </tr>\n    <tr>\n      <th>4</th>\n      <td>M5A</td>\n      <td>Downtown Toronto</td>\n      <td>Harbourfront</td>\n    </tr>\n  </tbody>\n</table>\n</div>", 
                        "text/plain": "  Postcode           Borough     Neighbourhood\n0      M1A      Not assigned      Not assigned\n1      M2A      Not assigned      Not assigned\n2      M3A        North York         Parkwoods\n3      M4A        North York  Victoria Village\n4      M5A  Downtown Toronto      Harbourfront"
                    }, 
                    "output_type": "execute_result"
                }
            ], 
            "source": "df_raw.head()"
        }, 
        {
            "source": "Cleaning dataset:\n   * Only process the cells that have an assigned borough. Ignore cells with a borough that is Not assigned.\n   * More than one neighborhood can exist in one postal code area.\n   * If a cell has a borough but a Not assigned neighborhood, then the neighborhood will be the same as the borough", 
            "cell_type": "markdown", 
            "metadata": {}
        }, 
        {
            "execution_count": 77, 
            "cell_type": "code", 
            "metadata": {}, 
            "outputs": [], 
            "source": "df_raw = df_raw[df_raw.Borough != 'Not assigned']\ndf_raw.loc[df_raw.Neighbourhood == 'Not assigned', 'Neighbourhood'] = df_raw.loc[df_raw.Neighbourhood == 'Not assigned', 'Borough']\ndf_raw = df_raw.groupby(['Postcode', 'Borough'])['Neighbourhood'].apply(lambda x: \"%s\" % ', '.join(x)).reset_index()"
        }, 
        {
            "execution_count": 78, 
            "cell_type": "code", 
            "metadata": {}, 
            "outputs": [
                {
                    "execution_count": 78, 
                    "metadata": {}, 
                    "data": {
                        "text/plain": "(103, 3)"
                    }, 
                    "output_type": "execute_result"
                }
            ], 
            "source": "df_raw.shape"
        }, 
        {
            "source": "## Longitude coordinates of each neighborhood.", 
            "cell_type": "markdown", 
            "metadata": {}
        }, 
        {
            "source": "Installing geocoder", 
            "cell_type": "markdown", 
            "metadata": {}
        }, 
        {
            "execution_count": 90, 
            "cell_type": "code", 
            "metadata": {}, 
            "outputs": [
                {
                    "output_type": "stream", 
                    "name": "stdout", 
                    "text": "Collecting geocoder\n\u001b[?25l  Downloading https://files.pythonhosted.org/packages/4f/6b/13166c909ad2f2d76b929a4227c952630ebaf0d729f6317eb09cbceccbab/geocoder-1.38.1-py2.py3-none-any.whl (98kB)\n\u001b[K     |\u2588\u2588\u2588\u2588\u2588\u2588\u2588\u2588\u2588\u2588\u2588\u2588\u2588\u2588\u2588\u2588\u2588\u2588\u2588\u2588\u2588\u2588\u2588\u2588\u2588\u2588\u2588\u2588\u2588\u2588\u2588\u2588| 102kB 19.7MB/s ta 0:00:01\n\u001b[?25hRequirement already satisfied: future in /opt/conda/envs/Python36/lib/python3.6/site-packages (from geocoder) (0.17.1)\nRequirement already satisfied: requests in /opt/conda/envs/Python36/lib/python3.6/site-packages (from geocoder) (2.21.0)\nRequirement already satisfied: click in /opt/conda/envs/Python36/lib/python3.6/site-packages (from geocoder) (7.0)\nRequirement already satisfied: six in /opt/conda/envs/Python36/lib/python3.6/site-packages (from geocoder) (1.12.0)\nCollecting ratelim (from geocoder)\n  Downloading https://files.pythonhosted.org/packages/f2/98/7e6d147fd16a10a5f821db6e25f192265d6ecca3d82957a4fdd592cad49c/ratelim-0.1.6-py2.py3-none-any.whl\nRequirement already satisfied: certifi>=2017.4.17 in /opt/conda/envs/Python36/lib/python3.6/site-packages (from requests->geocoder) (2019.6.16)\nRequirement already satisfied: idna<2.9,>=2.5 in /opt/conda/envs/Python36/lib/python3.6/site-packages (from requests->geocoder) (2.8)\nRequirement already satisfied: chardet<3.1.0,>=3.0.2 in /opt/conda/envs/Python36/lib/python3.6/site-packages (from requests->geocoder) (3.0.4)\nRequirement already satisfied: urllib3<1.25,>=1.21.1 in /opt/conda/envs/Python36/lib/python3.6/site-packages (from requests->geocoder) (1.24.1)\nRequirement already satisfied: decorator in /opt/conda/envs/Python36/lib/python3.6/site-packages (from ratelim->geocoder) (4.3.2)\nInstalling collected packages: ratelim, geocoder\nSuccessfully installed geocoder-1.38.1 ratelim-0.1.6\n"
                }
            ], 
            "source": "import sys\n!{sys.executable} -m pip install geocoder"
        }, 
        {
            "execution_count": 127, 
            "cell_type": "code", 
            "metadata": {}, 
            "outputs": [], 
            "source": "import geocoder\nimport json\n\ndef  get_coordinates(postcode):\n    g = geocoder.arcgis('{}, Toronto'.format(postcode))\n    latitude =  g.json['lat']\n    longitude = g.json['lng']\n    \n    return [latitude, longitude]"
        }, 
        {
            "execution_count": 132, 
            "cell_type": "code", 
            "metadata": {
                "scrolled": true
            }, 
            "outputs": [
                {
                    "execution_count": 132, 
                    "metadata": {}, 
                    "data": {
                        "text/html": "<div>\n<style scoped>\n    .dataframe tbody tr th:only-of-type {\n        vertical-align: middle;\n    }\n\n    .dataframe tbody tr th {\n        vertical-align: top;\n    }\n\n    .dataframe thead th {\n        text-align: right;\n    }\n</style>\n<table border=\"1\" class=\"dataframe\">\n  <thead>\n    <tr style=\"text-align: right;\">\n      <th></th>\n      <th>Postcode</th>\n      <th>Borough</th>\n      <th>Neighbourhood</th>\n      <th>Latitude</th>\n      <th>Longitude</th>\n    </tr>\n  </thead>\n  <tbody>\n    <tr>\n      <th>0</th>\n      <td>M1B</td>\n      <td>Scarborough</td>\n      <td>Rouge, Malvern</td>\n      <td>43.811525</td>\n      <td>-79.195517</td>\n    </tr>\n    <tr>\n      <th>1</th>\n      <td>M1C</td>\n      <td>Scarborough</td>\n      <td>Highland Creek, Rouge Hill, Port Union</td>\n      <td>43.785730</td>\n      <td>-79.158750</td>\n    </tr>\n    <tr>\n      <th>2</th>\n      <td>M1E</td>\n      <td>Scarborough</td>\n      <td>Guildwood, Morningside, West Hill</td>\n      <td>43.765690</td>\n      <td>-79.175256</td>\n    </tr>\n    <tr>\n      <th>3</th>\n      <td>M1G</td>\n      <td>Scarborough</td>\n      <td>Woburn</td>\n      <td>43.768359</td>\n      <td>-79.217590</td>\n    </tr>\n    <tr>\n      <th>4</th>\n      <td>M1H</td>\n      <td>Scarborough</td>\n      <td>Cedarbrae</td>\n      <td>43.769688</td>\n      <td>-79.239440</td>\n    </tr>\n  </tbody>\n</table>\n</div>", 
                        "text/plain": "  Postcode      Borough                           Neighbourhood   Latitude  \\\n0      M1B  Scarborough                          Rouge, Malvern  43.811525   \n1      M1C  Scarborough  Highland Creek, Rouge Hill, Port Union  43.785730   \n2      M1E  Scarborough       Guildwood, Morningside, West Hill  43.765690   \n3      M1G  Scarborough                                  Woburn  43.768359   \n4      M1H  Scarborough                               Cedarbrae  43.769688   \n\n   Longitude  \n0 -79.195517  \n1 -79.158750  \n2 -79.175256  \n3 -79.217590  \n4 -79.239440  "
                    }, 
                    "output_type": "execute_result"
                }
            ], 
            "source": "df_raw['Latitude'] = 0.0\ndf_raw['Longitude'] = 0.0\n\nfor index, row in df_raw.iterrows():\n    coord =  get_coordinates(row['Postcode'])\n    df_raw.at[index,'Latitude'] = coord[0]\n    df_raw.at[index,'Longitude'] = coord[1]\n\ndf_raw.head()        "
        }, 
        {
            "execution_count": null, 
            "cell_type": "code", 
            "metadata": {}, 
            "outputs": [], 
            "source": ""
        }
    ], 
    "metadata": {
        "kernelspec": {
            "display_name": "Python 3.6", 
            "name": "python3", 
            "language": "python"
        }, 
        "language_info": {
            "mimetype": "text/x-python", 
            "nbconvert_exporter": "python", 
            "version": "3.6.8", 
            "name": "python", 
            "file_extension": ".py", 
            "pygments_lexer": "ipython3", 
            "codemirror_mode": {
                "version": 3, 
                "name": "ipython"
            }
        }
    }, 
    "nbformat": 4
}