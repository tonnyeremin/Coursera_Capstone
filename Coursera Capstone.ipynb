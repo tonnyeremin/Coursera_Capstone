{
    "nbformat_minor": 1, 
    "cells": [
        {
            "source": "# Applied Data Science Capstone", 
            "cell_type": "markdown", 
            "metadata": {
                "collapsed": true
            }
        }, 
        {
            "source": "*determine neighborhoods on the other side of the city that are exactly the same as your current neighborhood*", 
            "cell_type": "markdown", 
            "metadata": {}
        }, 
        {
            "execution_count": 20, 
            "cell_type": "code", 
            "metadata": {}, 
            "outputs": [], 
            "source": "import pandas as pd\nimport numpy as np"
        }, 
        {
            "source": "## Segmenting and Clustering Neighborhoods in Toronto", 
            "cell_type": "markdown", 
            "metadata": {}
        }, 
        {
            "source": "Download html Wikipedia page", 
            "cell_type": "markdown", 
            "metadata": {}
        }, 
        {
            "execution_count": 10, 
            "cell_type": "code", 
            "metadata": {}, 
            "outputs": [], 
            "source": "from urllib.request import Request, urlopen\nfrom urllib.error import URLError\n\ndata_url = \"https://en.wikipedia.org/wiki/List_of_postal_codes_of_Canada:_M\"\n\nreq = Request(data_url)\n\ntry:\n    with urlopen(req) as response:\n        page_bytes = response.read()\n        page = page_bytes.decode(\"utf8\")\nexcept URLError as e:\n    if hasattr(e, 'reason'):\n        print('We failed to reach a server.')\n        print('Reason: ', e.reason)\n    elif hasattr(e, 'code'):\n        print('The server couldn\\'t fulfill the request.')\n        print('Error code: ', e.code)    \n        "
        }, 
        {
            "source": "Declaring custom html parser. ", 
            "cell_type": "markdown", 
            "metadata": {}
        }, 
        {
            "execution_count": 16, 
            "cell_type": "code", 
            "metadata": {}, 
            "outputs": [], 
            "source": "from html.parser import HTMLParser\n\nclass TableParser(HTMLParser):\n    \n    def __init__(self):\n        \n        HTMLParser.__init__(self)\n        self._header = False\n        self._cell = False\n        self.tables = []\n        self._current_cell = []\n        self._current_row = []\n        self._data_separator=' '\n        self._current_table = []\n        \n    def handle_starttag(self, tag, attrs):\n        if(tag == 'td'):\n            self._cell = True\n        if(tag == 'th'):\n            self._header = True\n            \n    def handle_data(self, data):\n        if(self._header or self._cell):\n            self._current_cell.append(data.strip())\n            \n    def handle_charref(self, name):\n        \n        if self._parse_html_entities:\n            self.handle_data(self.unescape('&#{};'.format(name)))\n            \n    def handle_endtag(self, tag):\n        \n        if tag == 'td':\n            self._in_td = False\n        elif tag == 'th':\n            self._in_th = False\n\n        if tag in ['td', 'th']:\n            final_cell = self._data_separator.join(self._current_cell).strip()\n            self._current_row.append(final_cell)\n            self._current_cell = []\n        elif tag == 'tr':\n            self._current_table.append(self._current_row)\n            self._current_row = []\n        elif tag == 'table':\n            self.tables.append(self._current_table)\n            self._current_table = []"
        }, 
        {
            "source": "Parsing raw html text to padas dataframe", 
            "cell_type": "markdown", 
            "metadata": {}
        }, 
        {
            "execution_count": 64, 
            "cell_type": "code", 
            "metadata": {}, 
            "outputs": [], 
            "source": "parser = TableParser()\nparser.feed(page)\n\nif len(parser.tables) > 0:\n    table = np.array(parser.tables[0])\n    df_raw = pd.DataFrame(data=table[1:,0:], columns=table[0,0:])\nelse:   \n    print('Tables not found')"
        }, 
        {
            "execution_count": 47, 
            "cell_type": "code", 
            "metadata": {
                "scrolled": true
            }, 
            "outputs": [
                {
                    "execution_count": 47, 
                    "metadata": {}, 
                    "data": {
                        "text/html": "<div>\n<style scoped>\n    .dataframe tbody tr th:only-of-type {\n        vertical-align: middle;\n    }\n\n    .dataframe tbody tr th {\n        vertical-align: top;\n    }\n\n    .dataframe thead th {\n        text-align: right;\n    }\n</style>\n<table border=\"1\" class=\"dataframe\">\n  <thead>\n    <tr style=\"text-align: right;\">\n      <th></th>\n      <th>Postcode</th>\n      <th>Borough</th>\n      <th>Neighbourhood</th>\n    </tr>\n  </thead>\n  <tbody>\n    <tr>\n      <th>0</th>\n      <td>M1A</td>\n      <td>Not assigned</td>\n      <td>Not assigned</td>\n    </tr>\n    <tr>\n      <th>1</th>\n      <td>M2A</td>\n      <td>Not assigned</td>\n      <td>Not assigned</td>\n    </tr>\n    <tr>\n      <th>2</th>\n      <td>M3A</td>\n      <td>North York</td>\n      <td>Parkwoods</td>\n    </tr>\n    <tr>\n      <th>3</th>\n      <td>M4A</td>\n      <td>North York</td>\n      <td>Victoria Village</td>\n    </tr>\n    <tr>\n      <th>4</th>\n      <td>M5A</td>\n      <td>Downtown Toronto</td>\n      <td>Harbourfront</td>\n    </tr>\n  </tbody>\n</table>\n</div>", 
                        "text/plain": "  Postcode           Borough     Neighbourhood\n0      M1A      Not assigned      Not assigned\n1      M2A      Not assigned      Not assigned\n2      M3A        North York         Parkwoods\n3      M4A        North York  Victoria Village\n4      M5A  Downtown Toronto      Harbourfront"
                    }, 
                    "output_type": "execute_result"
                }
            ], 
            "source": "df_raw.head()"
        }, 
        {
            "source": "Cleaning dataset:\n   * Only process the cells that have an assigned borough. Ignore cells with a borough that is Not assigned.\n   * More than one neighborhood can exist in one postal code area.\n   * If a cell has a borough but a Not assigned neighborhood, then the neighborhood will be the same as the borough", 
            "cell_type": "markdown", 
            "metadata": {}
        }, 
        {
            "execution_count": 77, 
            "cell_type": "code", 
            "metadata": {}, 
            "outputs": [], 
            "source": "df_raw = df_raw[df_raw.Borough != 'Not assigned']\ndf_raw.loc[df_raw.Neighbourhood == 'Not assigned', 'Neighbourhood'] = df_raw.loc[df_raw.Neighbourhood == 'Not assigned', 'Borough']\ndf_rawdf_raw.groupby(['Postcode', 'Borough'])['Neighbourhood'].apply(lambda x: \"%s\" % ', '.join(x)).reset_index()"
        }, 
        {
            "execution_count": 78, 
            "cell_type": "code", 
            "metadata": {}, 
            "outputs": [
                {
                    "execution_count": 78, 
                    "metadata": {}, 
                    "data": {
                        "text/plain": "(103, 3)"
                    }, 
                    "output_type": "execute_result"
                }
            ], 
            "source": "df_raw.shape"
        }
    ], 
    "metadata": {
        "kernelspec": {
            "display_name": "Python 3.6", 
            "name": "python3", 
            "language": "python"
        }, 
        "language_info": {
            "mimetype": "text/x-python", 
            "nbconvert_exporter": "python", 
            "version": "3.6.8", 
            "name": "python", 
            "file_extension": ".py", 
            "pygments_lexer": "ipython3", 
            "codemirror_mode": {
                "version": 3, 
                "name": "ipython"
            }
        }
    }, 
    "nbformat": 4
}