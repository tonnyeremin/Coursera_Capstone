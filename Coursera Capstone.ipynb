{
    "nbformat_minor": 1, 
    "cells": [
        {
            "source": "# Applied Data Science Capstone", 
            "cell_type": "markdown", 
            "metadata": {
                "collapsed": true
            }
        }, 
        {
            "source": "*determine neighborhoods on the other side of the city that are exactly the same as your current neighborhood*", 
            "cell_type": "markdown", 
            "metadata": {}
        }, 
        {
            "execution_count": 20, 
            "cell_type": "code", 
            "metadata": {}, 
            "outputs": [], 
            "source": "import pandas as pd\nimport numpy as np"
        }, 
        {
            "source": "## Segmenting and Clustering Neighborhoods in Toronto", 
            "cell_type": "markdown", 
            "metadata": {}
        }, 
        {
            "execution_count": 10, 
            "cell_type": "code", 
            "metadata": {}, 
            "outputs": [], 
            "source": "from urllib.request import Request, urlopen\nfrom urllib.error import URLError\n\ndata_url = \"https://en.wikipedia.org/wiki/List_of_postal_codes_of_Canada:_M\"\n\nreq = Request(data_url)\n\ntry:\n    with urlopen(req) as response:\n        page_bytes = response.read()\n        page = page_bytes.decode(\"utf8\")\nexcept URLError as e:\n    if hasattr(e, 'reason'):\n        print('We failed to reach a server.')\n        print('Reason: ', e.reason)\n    elif hasattr(e, 'code'):\n        print('The server couldn\\'t fulfill the request.')\n        print('Error code: ', e.code)    \n        "
        }, 
        {
            "execution_count": 16, 
            "cell_type": "code", 
            "metadata": {}, 
            "outputs": [], 
            "source": "from html.parser import HTMLParser\n\nclass TableParser(HTMLParser):\n    \n    def __init__(self):\n        \n        HTMLParser.__init__(self)\n        self._header = False\n        self._cell = False\n        self.tables = []\n        self._current_cell = []\n        self._current_row = []\n        self._data_separator=' '\n        self._current_table = []\n        \n    def handle_starttag(self, tag, attrs):\n        if(tag == 'td'):\n            self._cell = True\n        if(tag == 'th'):\n            self._header = True\n            \n    def handle_data(self, data):\n        if(self._header or self._cell):\n            self._current_cell.append(data.strip())\n            \n    def handle_charref(self, name):\n        \n        if self._parse_html_entities:\n            self.handle_data(self.unescape('&#{};'.format(name)))\n            \n    def handle_endtag(self, tag):\n        \"\"\" Here we exit the tags. If the closing tag is </tr>, we know that we\n        can save our currently parsed cells to the current table as a row and\n        prepare for a new row. If the closing tag is </table>, we save the\n        current table and prepare for a new one.\n        \"\"\"\n        if tag == 'td':\n            self._in_td = False\n        elif tag == 'th':\n            self._in_th = False\n\n        if tag in ['td', 'th']:\n            final_cell = self._data_separator.join(self._current_cell).strip()\n            self._current_row.append(final_cell)\n            self._current_cell = []\n        elif tag == 'tr':\n            self._current_table.append(self._current_row)\n            self._current_row = []\n        elif tag == 'table':\n            self.tables.append(self._current_table)\n            self._current_table = []\n"
        }, 
        {
            "execution_count": 27, 
            "cell_type": "code", 
            "metadata": {}, 
            "outputs": [], 
            "source": "parser = TableParser()\nparser.feed(page)\n\nif len(parser.tables) > 0:\n    table = np.array(parser.tables[0])\n    df_raw = pd.DataFrame(data=table[1:,1:], index=table[1:,0], columns=table[0,1:])\nelse:   \n    print('Tables not found')"
        }, 
        {
            "execution_count": 28, 
            "cell_type": "code", 
            "metadata": {}, 
            "outputs": [
                {
                    "execution_count": 28, 
                    "metadata": {}, 
                    "data": {
                        "text/html": "<div>\n<style scoped>\n    .dataframe tbody tr th:only-of-type {\n        vertical-align: middle;\n    }\n\n    .dataframe tbody tr th {\n        vertical-align: top;\n    }\n\n    .dataframe thead th {\n        text-align: right;\n    }\n</style>\n<table border=\"1\" class=\"dataframe\">\n  <thead>\n    <tr style=\"text-align: right;\">\n      <th></th>\n      <th>Borough</th>\n      <th>Neighbourhood</th>\n    </tr>\n  </thead>\n  <tbody>\n    <tr>\n      <th>M1A</th>\n      <td>Not assigned</td>\n      <td>Not assigned</td>\n    </tr>\n    <tr>\n      <th>M2A</th>\n      <td>Not assigned</td>\n      <td>Not assigned</td>\n    </tr>\n    <tr>\n      <th>M3A</th>\n      <td>North York</td>\n      <td>Parkwoods</td>\n    </tr>\n    <tr>\n      <th>M4A</th>\n      <td>North York</td>\n      <td>Victoria Village</td>\n    </tr>\n    <tr>\n      <th>M5A</th>\n      <td>Downtown Toronto</td>\n      <td>Harbourfront</td>\n    </tr>\n  </tbody>\n</table>\n</div>", 
                        "text/plain": "              Borough     Neighbourhood\nM1A      Not assigned      Not assigned\nM2A      Not assigned      Not assigned\nM3A        North York         Parkwoods\nM4A        North York  Victoria Village\nM5A  Downtown Toronto      Harbourfront"
                    }, 
                    "output_type": "execute_result"
                }
            ], 
            "source": "df_raw.head()"
        }, 
        {
            "execution_count": null, 
            "cell_type": "code", 
            "metadata": {}, 
            "outputs": [], 
            "source": ""
        }
    ], 
    "metadata": {
        "kernelspec": {
            "display_name": "Python 3.6", 
            "name": "python3", 
            "language": "python"
        }, 
        "language_info": {
            "mimetype": "text/x-python", 
            "nbconvert_exporter": "python", 
            "version": "3.6.8", 
            "name": "python", 
            "file_extension": ".py", 
            "pygments_lexer": "ipython3", 
            "codemirror_mode": {
                "version": 3, 
                "name": "ipython"
            }
        }
    }, 
    "nbformat": 4
}