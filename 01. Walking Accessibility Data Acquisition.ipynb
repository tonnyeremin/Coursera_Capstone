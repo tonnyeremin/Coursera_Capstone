{
 "cells": [
  {
   "cell_type": "markdown",
   "metadata": {
    "collapsed": true
   },
   "source": [
    "# Pedestrian Accessibility of Prague\n",
    "## Children of age 10-16\n",
    "### Part 1. Data aquisition and cleaning\n",
    "\n",
    "First part of this study is focused on data aquisition and cleaning. For our research we collected a number of datasets such as, districts shapes, population, points of interests (schools, educational centers, libraries, sport facilities, playgrounds). Datasets were aquired from different open data sources: \n",
    "- District`s shapes: IPR Praha <a>http://www.geoportalpraha.cz</a>\n",
    "- Population of the administrative districts of Czezch Republic: Czech Statistical Office <a>https://www.czso.cz</a>\n",
    "- Educational facilities of Prague: The Ministry of Education, Youth and Sports <a>http://www.msmt.cz/</a> \n",
    "- Libraries: Wikipedia <a>https://cs.wikipedia.org/wiki/M%C4%9Bstsk%C3%A1_knihovna_v_Praze</a>\n",
    "- Sport facilities: Opendata Prague <a>http://opendata.praha.eu/about</a>\n",
    "- Playgrounds: Opendata Prague <a>http://opendata.praha.eu/about</a>\n",
    "\n",
    "As the result we build to datasetes:\n",
    "- Children population by districts in Prague <a url='https://github.com/tonnyeremin/Urban-Data-Science/raw/master/prague_district_population.csv'>prague_district_population.csv</a>\n",
    "- Points of interests  <a url='https://github.com/tonnyeremin/Urban-Data-Science/blob/master/prague_pois.csv'>prague_pois.csv</a>   \n"
   ]
  },
  {
   "cell_type": "markdown",
   "metadata": {},
   "source": [
    "### 1. Environment"
   ]
  },
  {
   "cell_type": "code",
   "execution_count": 51,
   "metadata": {},
   "outputs": [],
   "source": [
    "#!conda install -c conda-forge geocoder #Uncomment this cell to install geocoder package if it is not yet installed"
   ]
  },
  {
   "cell_type": "code",
   "execution_count": 52,
   "metadata": {},
   "outputs": [],
   "source": [
    "import sys\n",
    "import io\n",
    "import pandas as pd\n",
    "import numpy as np\n",
    "import json\n",
    "import urllib.request\n",
    "import requests\n",
    "from pandas.io.json import json_normalize"
   ]
  },
  {
   "cell_type": "code",
   "execution_count": 53,
   "metadata": {},
   "outputs": [],
   "source": [
    "files = {'districts':'prague_district_population.csv', 'poi':'prague_pois.csv'}"
   ]
  },
  {
   "cell_type": "code",
   "execution_count": 54,
   "metadata": {},
   "outputs": [],
   "source": [
    "# @hidden_cell\n",
    "storage_creds = {'apikey' : 'rqrlKTO277J6k4N_5X_wpI62WqwslFDxspY7o2Nb6s0A',\n",
    "                 'iam_serviceid_crn' : 'crn:v1:bluemix:public:cloud-object-storage:global:a/8aa0fa0d4ad4480b8bfdf1c4d79f9442:021a8d33-89af-44aa-b548-e6f14a067d79:bucket:prague-data-set',\n",
    "                 'auth_ep': 'https://iam.cloud.ibm.com/identity/token',\n",
    "                 'ep': 'https://s3.private.eu-de.cloud-object-storage.appdomain.cloud',\n",
    "                 'bucket' : 'prague-data-set'}"
   ]
  },
  {
   "cell_type": "code",
   "execution_count": 55,
   "metadata": {},
   "outputs": [],
   "source": [
    "#Define storage creds here\n",
    "# storage_creds = {'apikey' : 'apikey',\n",
    "#                 'iam_serviceid_crn' : 'iam_serviceid_crn',\n",
    "#                 'auth_ep': 'https://iam.cloud.ibm.com/identity/token',\n",
    "#                 'ep': 'https://s3.private.eu-de.cloud-object-storage.appdomain.cloud',\n",
    "#                 'bucket' : 'bucket'}"
   ]
  },
  {
   "cell_type": "code",
   "execution_count": 56,
   "metadata": {},
   "outputs": [
    {
     "name": "stdout",
     "output_type": "stream",
     "text": [
      "Environment was initializied\n"
     ]
    }
   ],
   "source": [
    "#Upload and download functions for IBM data storage\n",
    "\n",
    "import sys\n",
    "from ibm_botocore.client import Config\n",
    "import ibm_boto3\n",
    "\n",
    "def upload_file(credentials,local_file_name,key): \n",
    "    storage = ibm_boto3.client(service_name='s3',\n",
    "    ibm_api_key_id=credentials['apikey'],\n",
    "    ibm_service_instance_id=credentials['iam_serviceid_crn'],\n",
    "    ibm_auth_endpoint=credentials['auth_ep'],\n",
    "    config=Config(signature_version='oauth'),\n",
    "    endpoint_url=credentials['ep'])\n",
    "    \n",
    "    try:\n",
    "        res=storage.upload_file(Filename=local_file_name, Bucket=credentials['bucket'],Key=key)\n",
    "    except Exception as e:\n",
    "        print(Exception, e)\n",
    "    else:\n",
    "        print('File {} Uploaded'.format(local_file_name))\n",
    "        \n",
    "def download_file(credentials,local_file_name,key):  \n",
    "    storage = ibm_boto3.client(service_name='s3',\n",
    "    ibm_api_key_id=credentials['apikey'],\n",
    "    ibm_service_instance_id=credentials['iam_serviceid_crn'],\n",
    "    ibm_auth_endpoint=credentials['auth_ep'],\n",
    "    config=Config(signature_version='oauth'),\n",
    "    endpoint_url=credentials['ep'])\n",
    "    try:\n",
    "        res= storage.download_file(Bucket=credentials['bucket'],Key=key,Filename=local_file_name)\n",
    "    except Exception as e:\n",
    "        print(Exception, e)\n",
    "    else:\n",
    "        print('File {} Downloaded'.format(local_file_name))\n",
    "\n",
    "# Coordinates retrieve function\n",
    "import geocoder\n",
    "\n",
    "def get_coordinates(dataFrame, index_row):\n",
    "    dict_coordinates = {}\n",
    "    total_count = len(dataFrame.index)\n",
    "    current = 0\n",
    "    errors = 0\n",
    "    for index, row in dataFrame.iterrows():\n",
    "        try:\n",
    "            g = geocoder.arcgis(row[index_row])\n",
    "            lat = g.json['lat']\n",
    "            lng = g.json['lng']\n",
    "            dict_coordinates[index] = [lat, lng]\n",
    "            current+=1\n",
    "        except:\n",
    "            errors+=1\n",
    "            print ('Failed to get coordinates for {}: {}'.format(index_row, sys.exc_info()[0]))\n",
    "    \n",
    "    dataFrame['latitude'] = 0.0\n",
    "    dataFrame['longitude'] = 0.0\n",
    "    \n",
    "    for k, v in dict_coordinates.items():\n",
    "        dataFrame.loc[k,'latitude']=v[0]\n",
    "        dataFrame.loc[k,'longitude']=v[1]\n",
    "        \n",
    "    print('Done: Total: {} Success: {} Error {}'.format(total_count, current, errors))\n",
    "print('Environment was initializied')    "
   ]
  },
  {
   "cell_type": "markdown",
   "metadata": {},
   "source": [
    "### 2. Prague`s districts borders and population"
   ]
  },
  {
   "cell_type": "markdown",
   "metadata": {},
   "source": [
    "First step is to determine the shape, location and population of the administrative disctrics of Prague."
   ]
  },
  {
   "cell_type": "code",
   "execution_count": 57,
   "metadata": {},
   "outputs": [
    {
     "name": "stdout",
     "output_type": "stream",
     "text": [
      "Loaded: 57 districts\n"
     ]
    }
   ],
   "source": [
    "mestky_casty_url = 'http://opendata.iprpraha.cz/CUR/DTMP/TMMESTSKECASTI_P/WGS_84/TMMESTSKECASTI_P.json'\n",
    "results = requests.get(mestky_casty_url).json(encoding = \"utf8\")\n",
    "mestky_casty = json_normalize(results['features']) \n",
    "print('Loaded: {} districts'.format(mestky_casty.shape[0]))"
   ]
  },
  {
   "cell_type": "code",
   "execution_count": 58,
   "metadata": {},
   "outputs": [
    {
     "name": "stdout",
     "output_type": "stream",
     "text": [
      "Loaded: 57 districts\n"
     ]
    }
   ],
   "source": [
    "url_population =  'https://www.czso.cz/documents/10180/25233177/sldb_zv.csv'\n",
    "df_population = pd.read_csv(url_population,encoding = \"ISO 8859-2\")\n",
    "\n",
    "df_population = df_population[(df_population.uzcis == 44)& (df_population.nazev.str.find('Praha') != -1)][['nazev','u01','u04', 'u05', 'u06']]\n",
    "df_population.rename(columns={'nazev':'Name','u01':'Total', 'u04':'Kids', 'u05':'Middle', 'u06':'Senior'}, inplace = True)\n",
    "df_population['Name'] = df_population['Name'].map(lambda x: x.lower())\n",
    "\n",
    "print('Loaded: {} districts'.format(df_population.shape[0]))"
   ]
  },
  {
   "cell_type": "markdown",
   "metadata": {},
   "source": [
    "Join district geography and population datasets"
   ]
  },
  {
   "cell_type": "code",
   "execution_count": 59,
   "metadata": {},
   "outputs": [
    {
     "name": "stdout",
     "output_type": "stream",
     "text": [
      "Unique districts in geo dataset: 57\n",
      "Unique districts in population dataset: 57\n",
      "['praha-libuš', 'praha-nebušice', 'praha-štěrboholy', 'praha-šeberov']\n",
      "['praha-\\x8atěrboholy', 'praha-\\x8aeberov', 'praha-nebu\\x9aice', 'praha-libu\\x9a']\n",
      "Datasetes difference: 4 4\n"
     ]
    }
   ],
   "source": [
    "geo_unique = np.array(mestky_casty['properties.NAZEV_MC'].apply(lambda x: x.lower()).unique())\n",
    "population_unique = df_population['Name'].unique()\n",
    "\n",
    "print('Unique districts in geo dataset: {}'.format(len(geo_unique)))\n",
    "print('Unique districts in population dataset: {}'.format(len(population_unique)))\n",
    "\n",
    "districts_diff_geo = list(set(geo_unique)-set(population_unique))\n",
    "districts_diff_pop = list(set(population_unique)-set(geo_unique))\n",
    "\n",
    "print (districts_diff_geo)\n",
    "\n",
    "print (districts_diff_pop)\n",
    "\n",
    "print ('Datasetes difference: {} {}'.format(len(districts_diff_geo), len(districts_diff_pop)))"
   ]
  },
  {
   "cell_type": "code",
   "execution_count": 60,
   "metadata": {},
   "outputs": [
    {
     "name": "stdout",
     "output_type": "stream",
     "text": [
      "Data set equal: True\n"
     ]
    }
   ],
   "source": [
    "df_population.loc[df_population.Name == 'praha-libu\\x9a', 'Name'] = 'praha-libuš'\n",
    "df_population.loc[df_population.Name == 'praha-\\x8aeberov', 'Name'] = 'praha-šeberov'\n",
    "df_population.loc[df_population.Name == 'praha-nebu\\x9aice', 'Name'] = 'praha-nebušice'\n",
    "df_population.loc[df_population.Name == 'praha-\\x8atěrboholy', 'Name'] = 'praha-štěrboholy'\n",
    "\n",
    "population_unique = df_population['Name'].unique()\n",
    "districts_diff_pop = list(set(population_unique)-set(geo_unique))\n",
    "\n",
    "print('Data set equal: {}'.format(len(districts_diff_pop)==0)) "
   ]
  },
  {
   "cell_type": "markdown",
   "metadata": {},
   "source": [
    "Creating resulting dataset for geographical and demographical data"
   ]
  },
  {
   "cell_type": "code",
   "execution_count": 61,
   "metadata": {},
   "outputs": [
    {
     "data": {
      "text/plain": [
       "(57, 8)"
      ]
     },
     "execution_count": 61,
     "metadata": {},
     "output_type": "execute_result"
    }
   ],
   "source": [
    "result = []\n",
    "#converting from json to pandas data frame\n",
    "result.append([\n",
    "    v['properties']['NAZEV_MC'].lower(),\n",
    "    v['geometry']['coordinates'][0],\n",
    "    v['properties']['PLOCHA']] for v in results['features'])\n",
    "    \n",
    "df_prague_districts = pd.DataFrame([item for result in result for item in result])\n",
    "df_prague_districts.columns = ['Name', 'Geometry', 'Area']\n",
    "\n",
    "#Joing datasets\n",
    "df_prague = df_prague_districts.set_index('Name').join(df_population.set_index('Name'))\n",
    "\n",
    "quotient = df_prague['Middle']/1000\n",
    "df_prague['Kids_per_1000'] = df_prague['Kids']/quotient\n",
    "df_prague.sort_values('Name', inplace = True)\n",
    "df_prague.reset_index(inplace=True)\n",
    "df_prague.shape"
   ]
  },
  {
   "cell_type": "code",
   "execution_count": 62,
   "metadata": {},
   "outputs": [
    {
     "name": "stdout",
     "output_type": "stream",
     "text": [
      "Done: Total: 57 Success: 57 Error 0\n"
     ]
    },
    {
     "data": {
      "text/html": [
       "<div>\n",
       "<style scoped>\n",
       "    .dataframe tbody tr th:only-of-type {\n",
       "        vertical-align: middle;\n",
       "    }\n",
       "\n",
       "    .dataframe tbody tr th {\n",
       "        vertical-align: top;\n",
       "    }\n",
       "\n",
       "    .dataframe thead th {\n",
       "        text-align: right;\n",
       "    }\n",
       "</style>\n",
       "<table border=\"1\" class=\"dataframe\">\n",
       "  <thead>\n",
       "    <tr style=\"text-align: right;\">\n",
       "      <th></th>\n",
       "      <th>Name</th>\n",
       "      <th>Geometry</th>\n",
       "      <th>Area</th>\n",
       "      <th>Total</th>\n",
       "      <th>Kids</th>\n",
       "      <th>Middle</th>\n",
       "      <th>Senior</th>\n",
       "      <th>Kids_per_1000</th>\n",
       "      <th>latitude</th>\n",
       "      <th>longitude</th>\n",
       "    </tr>\n",
       "  </thead>\n",
       "  <tbody>\n",
       "    <tr>\n",
       "      <th>0</th>\n",
       "      <td>praha 1</td>\n",
       "      <td>[[14.410891049000043, 50.078674687000046], [14...</td>\n",
       "      <td>5538443.86</td>\n",
       "      <td>30561.0</td>\n",
       "      <td>2391.0</td>\n",
       "      <td>22963.0</td>\n",
       "      <td>4594.0</td>\n",
       "      <td>104.124026</td>\n",
       "      <td>50.08728</td>\n",
       "      <td>14.41742</td>\n",
       "    </tr>\n",
       "    <tr>\n",
       "      <th>1</th>\n",
       "      <td>praha 10</td>\n",
       "      <td>[[14.531321086000048, 50.072240288000046], [14...</td>\n",
       "      <td>18599366.98</td>\n",
       "      <td>113200.0</td>\n",
       "      <td>12213.0</td>\n",
       "      <td>76625.0</td>\n",
       "      <td>23937.0</td>\n",
       "      <td>159.386623</td>\n",
       "      <td>50.06762</td>\n",
       "      <td>14.46016</td>\n",
       "    </tr>\n",
       "    <tr>\n",
       "      <th>2</th>\n",
       "      <td>praha 11</td>\n",
       "      <td>[[14.54355294800007, 50.03618763800006], [14.5...</td>\n",
       "      <td>9793679.84</td>\n",
       "      <td>75741.0</td>\n",
       "      <td>8688.0</td>\n",
       "      <td>54983.0</td>\n",
       "      <td>11816.0</td>\n",
       "      <td>158.012477</td>\n",
       "      <td>50.03178</td>\n",
       "      <td>14.50719</td>\n",
       "    </tr>\n",
       "    <tr>\n",
       "      <th>3</th>\n",
       "      <td>praha 12</td>\n",
       "      <td>[[14.450632163000023, 50.01452735600003], [14....</td>\n",
       "      <td>23317909.06</td>\n",
       "      <td>53515.0</td>\n",
       "      <td>6156.0</td>\n",
       "      <td>39699.0</td>\n",
       "      <td>7480.0</td>\n",
       "      <td>155.066878</td>\n",
       "      <td>50.00564</td>\n",
       "      <td>14.40462</td>\n",
       "    </tr>\n",
       "    <tr>\n",
       "      <th>4</th>\n",
       "      <td>praha 13</td>\n",
       "      <td>[[14.320621949000042, 50.04010680700003], [14....</td>\n",
       "      <td>13196802.19</td>\n",
       "      <td>59906.0</td>\n",
       "      <td>7985.0</td>\n",
       "      <td>46514.0</td>\n",
       "      <td>5109.0</td>\n",
       "      <td>171.668745</td>\n",
       "      <td>50.05163</td>\n",
       "      <td>14.34231</td>\n",
       "    </tr>\n",
       "  </tbody>\n",
       "</table>\n",
       "</div>"
      ],
      "text/plain": [
       "       Name                                           Geometry         Area  \\\n",
       "0   praha 1  [[14.410891049000043, 50.078674687000046], [14...   5538443.86   \n",
       "1  praha 10  [[14.531321086000048, 50.072240288000046], [14...  18599366.98   \n",
       "2  praha 11  [[14.54355294800007, 50.03618763800006], [14.5...   9793679.84   \n",
       "3  praha 12  [[14.450632163000023, 50.01452735600003], [14....  23317909.06   \n",
       "4  praha 13  [[14.320621949000042, 50.04010680700003], [14....  13196802.19   \n",
       "\n",
       "      Total     Kids   Middle   Senior  Kids_per_1000  latitude  longitude  \n",
       "0   30561.0   2391.0  22963.0   4594.0     104.124026  50.08728   14.41742  \n",
       "1  113200.0  12213.0  76625.0  23937.0     159.386623  50.06762   14.46016  \n",
       "2   75741.0   8688.0  54983.0  11816.0     158.012477  50.03178   14.50719  \n",
       "3   53515.0   6156.0  39699.0   7480.0     155.066878  50.00564   14.40462  \n",
       "4   59906.0   7985.0  46514.0   5109.0     171.668745  50.05163   14.34231  "
      ]
     },
     "execution_count": 62,
     "metadata": {},
     "output_type": "execute_result"
    }
   ],
   "source": [
    "get_coordinates(df_prague, 'Name')\n",
    "df_prague.head()"
   ]
  },
  {
   "cell_type": "code",
   "execution_count": 63,
   "metadata": {},
   "outputs": [
    {
     "name": "stdout",
     "output_type": "stream",
     "text": [
      "File prague_district_population.csv Uploaded\n"
     ]
    }
   ],
   "source": [
    "file_name = files['districts']\n",
    "\n",
    "df_prague.to_csv(file_name)\n",
    "upload_file(storage_creds,file_name,file_name)"
   ]
  },
  {
   "cell_type": "markdown",
   "metadata": {},
   "source": [
    "### 3. Points of interests\n",
    "### 3.1 Schools and other educational facilities"
   ]
  },
  {
   "cell_type": "code",
   "execution_count": 64,
   "metadata": {},
   "outputs": [
    {
     "name": "stdout",
     "output_type": "stream",
     "text": [
      "Loaded\n"
     ]
    }
   ],
   "source": [
    "url_schools = 'https://rejstriky.msmt.cz/opendata/vrejcz010.xml'\n",
    "file_schools = 'schools.xml'\n",
    "results = requests.get(url_schools)\n",
    "results.content\n",
    "with open(file_schools, 'w') as file:\n",
    "    file.write(results.text)\n",
    "print('Loaded') "
   ]
  },
  {
   "cell_type": "code",
   "execution_count": 65,
   "metadata": {},
   "outputs": [
    {
     "name": "stdout",
     "output_type": "stream",
     "text": [
      "Completed. Total schools and educational centers count: 2273\n",
      "Dataframe created: 2273,5\n",
      "File prague_schools.csv Uploaded\n"
     ]
    }
   ],
   "source": [
    "#Converting XML to pandas dataframe \n",
    "\n",
    "import xml.etree.ElementTree as et \n",
    "xtree = et.parse(file_schools)\n",
    "xroot = xtree.getroot()\n",
    "\n",
    "dic_scools = []\n",
    "\n",
    "try:\n",
    "    for entry in xroot.findall('PravniSubjekt'):\n",
    "        place_group = entry.find('SkolyZarizeni')\n",
    "        if(place_group is None):\n",
    "            continue\n",
    "        for place in place_group.findall('SkolaZarizeni'):\n",
    "            s_id = place.find('IZO').text\n",
    "            s_type = place.find('SkolaDruhTyp').text\n",
    "            s_name = place.find('SkolaPlnyNazev').text\n",
    "            s_capasity = place.find('SkolaKapacita').text\n",
    "            s_adress = place.find('SkolaMistaVykonuCinnosti')\n",
    "            s_actual_add = s_adress.find('SkolaMistoVykonuCinnosti')\n",
    "            s_addres1 =  s_actual_add.find('MistoAdresa1').text\n",
    "            s_addres2 =  s_actual_add.find('MistoAdresa2').text\n",
    "            s_addres3 =  s_actual_add.find('MistoAdresa3').text\n",
    "            dic_scools.append([s_id, s_name,  s_type, s_capasity, '{} {} {}'.format(s_addres1, s_addres2, s_addres3)])\n",
    "    print('Completed. Total schools and educational centers count: {}'.format(len(dic_scools)))\n",
    "except:\n",
    "    print ('Exception', sys.exc_info()[0]) \n",
    "    \n",
    "columns = ['id', 'name', 'type', 'capacity', 'address']\n",
    "df_education = pd.DataFrame(dic_scools, columns = columns)\n",
    "\n",
    "print('Dataframe created: {},{}'.format(df_education.shape[0], df_education.shape[1]))\n",
    "\n",
    "#upload to datastore\n",
    "df_prague.to_csv('prague_schools.csv')\n",
    "upload_file(storage_creds,'prague_schools.csv','prague_schools.csv')"
   ]
  },
  {
   "cell_type": "code",
   "execution_count": 66,
   "metadata": {},
   "outputs": [
    {
     "name": "stdout",
     "output_type": "stream",
     "text": [
      "Types in XML file\n",
      "A00 Mateřská škola\n",
      "L11 Školní jídelna\n",
      "L13 Školní jídelna - výdejna\n",
      "B00 Základní škola\n",
      "M60 Přípravný stupeň základní školy speciální\n",
      "G21 Školní družina\n",
      "G22 Školní klub\n",
      "F10 Základní umělecká škola\n",
      "C00 Střední škola\n",
      "D00 Konzervatoř\n",
      "M20 Školní knihovna\n",
      "E00 Vyšší odborná škola\n",
      "M79 Jiné účelové zařízení\n",
      "H22 Domov mládeže\n",
      "G11 Dům dětí a mládeže\n",
      "G40 Zařízení pro další vzdělávání pedagogických pracovníků\n",
      "M40 Středisko praktického vyučování\n",
      "H21 Internát\n",
      "K20 Speciálně pedagogické centrum\n",
      "G12 Stanice zájmových činností\n",
      "K10 Pedagogicko-psychologická poradna\n",
      "F20 Jazyková škola s právem státní jazykové zkoušky\n",
      "J12 Dětský domov se školou\n",
      "J21 Středisko výchovné péče\n",
      "J14 Diagnostický ústav\n",
      "J11 Dětský domov\n",
      "J13 Výchovný ústav\n",
      "L12 Školní jídelna - vývařovna\n",
      "H10 Škola v přírodě\n",
      "A15 Mateřská škola (lesní mateřská škola)\n",
      "Schools and educational centers count 560\n",
      "Unique types ['school' 'educatioanal center']\n"
     ]
    }
   ],
   "source": [
    "#Check for predefinied types at schools dataframe\n",
    "types = df_education['type'].unique()\n",
    "print('Types in XML file')\n",
    "for t in types:\n",
    "    print(t,df_education[df_education.type == t].iloc[0,1])\n",
    "\n",
    "#filtering types\n",
    "with pd.option_context('mode.chained_assignment', None):\n",
    "    types = ['B00', 'F10', 'C00','H22', 'G11']\n",
    "    types_shu = types[0:3]\n",
    "    df_education_selected = df_education.loc[df_education.type.isin(types)]\n",
    "    df_education_selected.loc[df_education_selected['type'].isin(types_shu), 'Type'] = 'school'\n",
    "    df_education_selected = df_education_selected.fillna('educatioanal center')\n",
    "\n",
    "print('Schools and educational centers count {}'.format(df_education_selected.shape[0]))\n",
    "print('Unique types {}'.format(df_education_selected['Type'].unique()))"
   ]
  },
  {
   "cell_type": "code",
   "execution_count": 67,
   "metadata": {},
   "outputs": [
    {
     "name": "stdout",
     "output_type": "stream",
     "text": [
      "Done: Total: 560 Success: 560 Error 0\n"
     ]
    },
    {
     "data": {
      "text/html": [
       "<div>\n",
       "<style scoped>\n",
       "    .dataframe tbody tr th:only-of-type {\n",
       "        vertical-align: middle;\n",
       "    }\n",
       "\n",
       "    .dataframe tbody tr th {\n",
       "        vertical-align: top;\n",
       "    }\n",
       "\n",
       "    .dataframe thead th {\n",
       "        text-align: right;\n",
       "    }\n",
       "</style>\n",
       "<table border=\"1\" class=\"dataframe\">\n",
       "  <thead>\n",
       "    <tr style=\"text-align: right;\">\n",
       "      <th></th>\n",
       "      <th>Type</th>\n",
       "      <th>District_Name</th>\n",
       "      <th>latitude</th>\n",
       "      <th>longitude</th>\n",
       "    </tr>\n",
       "  </thead>\n",
       "  <tbody>\n",
       "    <tr>\n",
       "      <th>5</th>\n",
       "      <td>school</td>\n",
       "      <td>praha 4</td>\n",
       "      <td>50.008620</td>\n",
       "      <td>14.448992</td>\n",
       "    </tr>\n",
       "    <tr>\n",
       "      <th>22</th>\n",
       "      <td>school</td>\n",
       "      <td>praha 1</td>\n",
       "      <td>50.080344</td>\n",
       "      <td>14.415264</td>\n",
       "    </tr>\n",
       "    <tr>\n",
       "      <th>25</th>\n",
       "      <td>school</td>\n",
       "      <td>praha 1</td>\n",
       "      <td>50.090834</td>\n",
       "      <td>14.428853</td>\n",
       "    </tr>\n",
       "    <tr>\n",
       "      <th>26</th>\n",
       "      <td>school</td>\n",
       "      <td>praha 1</td>\n",
       "      <td>50.090834</td>\n",
       "      <td>14.428853</td>\n",
       "    </tr>\n",
       "    <tr>\n",
       "      <th>30</th>\n",
       "      <td>school</td>\n",
       "      <td>praha 4</td>\n",
       "      <td>50.001684</td>\n",
       "      <td>14.413886</td>\n",
       "    </tr>\n",
       "  </tbody>\n",
       "</table>\n",
       "</div>"
      ],
      "text/plain": [
       "      Type District_Name   latitude  longitude\n",
       "5   school       praha 4  50.008620  14.448992\n",
       "22  school       praha 1  50.080344  14.415264\n",
       "25  school       praha 1  50.090834  14.428853\n",
       "26  school       praha 1  50.090834  14.428853\n",
       "30  school       praha 4  50.001684  14.413886"
      ]
     },
     "execution_count": 67,
     "metadata": {},
     "output_type": "execute_result"
    }
   ],
   "source": [
    "#Cleaning and retriving coordinates\n",
    "df_education_selected.loc[0:, 'District_Name'] = df_education_selected.loc[0:,'address'].apply(lambda x: ' '.join(x.split()[-2:]).lower())\n",
    "\n",
    "columns_to_drop = ['id','name','capacity', 'type']\n",
    "df_education_selected.drop(columns = columns_to_drop, inplace = True)\n",
    "\n",
    "get_coordinates(df_education_selected, 'address')\n",
    "\n",
    "df_education_selected.drop(columns = ['address'], inplace= True)\n",
    "df_education_selected.head()"
   ]
  },
  {
   "cell_type": "code",
   "execution_count": 68,
   "metadata": {},
   "outputs": [
    {
     "name": "stdout",
     "output_type": "stream",
     "text": [
      "File prague_pois.csv Uploaded\n"
     ]
    }
   ],
   "source": [
    "df_prague_poi = pd.DataFrame(df_education_selected)\n",
    "\n",
    "poi_file_name = files['poi']\n",
    "df_prague_poi.to_csv(poi_file_name)\n",
    "upload_file(storage_creds,poi_file_name,poi_file_name)"
   ]
  },
  {
   "cell_type": "markdown",
   "metadata": {},
   "source": [
    "### 3.2 Libraries"
   ]
  },
  {
   "cell_type": "code",
   "execution_count": 71,
   "metadata": {},
   "outputs": [
    {
     "name": "stdout",
     "output_type": "stream",
     "text": [
      "Libraries count: 41\n",
      "Done: Total: 41 Success: 41 Error 0\n"
     ]
    },
    {
     "data": {
      "text/html": [
       "<div>\n",
       "<style scoped>\n",
       "    .dataframe tbody tr th:only-of-type {\n",
       "        vertical-align: middle;\n",
       "    }\n",
       "\n",
       "    .dataframe tbody tr th {\n",
       "        vertical-align: top;\n",
       "    }\n",
       "\n",
       "    .dataframe thead th {\n",
       "        text-align: right;\n",
       "    }\n",
       "</style>\n",
       "<table border=\"1\" class=\"dataframe\">\n",
       "  <thead>\n",
       "    <tr style=\"text-align: right;\">\n",
       "      <th></th>\n",
       "      <th>Type</th>\n",
       "      <th>District_Name</th>\n",
       "      <th>latitude</th>\n",
       "      <th>longitude</th>\n",
       "    </tr>\n",
       "  </thead>\n",
       "  <tbody>\n",
       "    <tr>\n",
       "      <th>0</th>\n",
       "      <td>library</td>\n",
       "      <td>praha 1</td>\n",
       "      <td>50.079501</td>\n",
       "      <td>14.424045</td>\n",
       "    </tr>\n",
       "    <tr>\n",
       "      <th>1</th>\n",
       "      <td>library</td>\n",
       "      <td>praha 1</td>\n",
       "      <td>50.087778</td>\n",
       "      <td>14.389993</td>\n",
       "    </tr>\n",
       "    <tr>\n",
       "      <th>2</th>\n",
       "      <td>library</td>\n",
       "      <td>praha 2</td>\n",
       "      <td>50.071910</td>\n",
       "      <td>14.436970</td>\n",
       "    </tr>\n",
       "    <tr>\n",
       "      <th>3</th>\n",
       "      <td>library</td>\n",
       "      <td>praha 2</td>\n",
       "      <td>50.073620</td>\n",
       "      <td>14.416410</td>\n",
       "    </tr>\n",
       "    <tr>\n",
       "      <th>4</th>\n",
       "      <td>library</td>\n",
       "      <td>praha 2</td>\n",
       "      <td>50.065790</td>\n",
       "      <td>14.424680</td>\n",
       "    </tr>\n",
       "  </tbody>\n",
       "</table>\n",
       "</div>"
      ],
      "text/plain": [
       "      Type District_Name   latitude  longitude\n",
       "0  library       praha 1  50.079501  14.424045\n",
       "1  library       praha 1  50.087778  14.389993\n",
       "2  library       praha 2  50.071910  14.436970\n",
       "3  library       praha 2  50.073620  14.416410\n",
       "4  library       praha 2  50.065790  14.424680"
      ]
     },
     "execution_count": 71,
     "metadata": {},
     "output_type": "execute_result"
    }
   ],
   "source": [
    "url_libs = 'https://cs.wikipedia.org/wiki/M%C4%9Bstsk%C3%A1_knihovna_v_Praze'\n",
    "\n",
    "f = urllib.request.urlopen(url_libs)\n",
    "html = f.read()\n",
    "\n",
    "try: \n",
    "    from BeautifulSoup import BeautifulSoup\n",
    "except ImportError:\n",
    "    from bs4 import BeautifulSoup\n",
    "\n",
    "parsed_html = BeautifulSoup(html)\n",
    "tag_header = parsed_html.find_all('h4')\n",
    "district_tags = []\n",
    "\n",
    "for tag in tag_header:\n",
    "    tag_match = False\n",
    "    district =''\n",
    "    for child in tag.children:\n",
    "        if child.get(\"class\")[0] == 'mw-headline':\n",
    "            district = child.get_text().lower()\n",
    "            tag_match = True\n",
    "    if tag_match == True:\n",
    "        nextsibling = tag.next_sibling\n",
    "        while  True:\n",
    "            if nextsibling.find('ul') != -1 :\n",
    "                lists = nextsibling.find_all('li')\n",
    "                for lib in  lists:\n",
    "                    district_tags.append(['library',district,lib.get_text()])\n",
    "                break\n",
    "            else:\n",
    "                nextsibling = nextsibling.next_sibling\n",
    "\n",
    "df_libs = pd.DataFrame(data=district_tags)\n",
    "df_libs.columns = ['Type', 'District_Name', 'Address']\n",
    "print('Libraries count: {}'.format(df_libs.shape[0]))\n",
    "\n",
    "get_coordinates(df_libs, 'Address')\n",
    "df_libs.drop(columns=['Address'], inplace = True)\n",
    "df_libs.head()"
   ]
  },
  {
   "cell_type": "code",
   "execution_count": 72,
   "metadata": {},
   "outputs": [
    {
     "name": "stdout",
     "output_type": "stream",
     "text": [
      "File prague_pois.csv Uploaded\n"
     ]
    }
   ],
   "source": [
    "df_prague_poi = pd.concat([df_prague_poi,df_libs], sort=True)\n",
    "\n",
    "poi_file_name = files['poi']\n",
    "df_prague_poi.to_csv(poi_file_name)\n",
    "upload_file(storage_creds,poi_file_name,poi_file_name)"
   ]
  },
  {
   "cell_type": "markdown",
   "metadata": {},
   "source": [
    "### 3.3 Sport centers and clubs"
   ]
  },
  {
   "cell_type": "code",
   "execution_count": 73,
   "metadata": {},
   "outputs": [
    {
     "name": "stdout",
     "output_type": "stream",
     "text": [
      "Sport centers and clubs count: 877\n",
      "Done: Total: 877 Success: 877 Error 0\n"
     ]
    },
    {
     "data": {
      "text/html": [
       "<div>\n",
       "<style scoped>\n",
       "    .dataframe tbody tr th:only-of-type {\n",
       "        vertical-align: middle;\n",
       "    }\n",
       "\n",
       "    .dataframe tbody tr th {\n",
       "        vertical-align: top;\n",
       "    }\n",
       "\n",
       "    .dataframe thead th {\n",
       "        text-align: right;\n",
       "    }\n",
       "</style>\n",
       "<table border=\"1\" class=\"dataframe\">\n",
       "  <thead>\n",
       "    <tr style=\"text-align: right;\">\n",
       "      <th></th>\n",
       "      <th>Type</th>\n",
       "      <th>District_Name</th>\n",
       "      <th>latitude</th>\n",
       "      <th>longitude</th>\n",
       "    </tr>\n",
       "  </thead>\n",
       "  <tbody>\n",
       "    <tr>\n",
       "      <th>0</th>\n",
       "      <td>sport</td>\n",
       "      <td>praha 5</td>\n",
       "      <td>50.052154</td>\n",
       "      <td>14.360772</td>\n",
       "    </tr>\n",
       "    <tr>\n",
       "      <th>1</th>\n",
       "      <td>sport</td>\n",
       "      <td>praha 5</td>\n",
       "      <td>50.068925</td>\n",
       "      <td>14.345478</td>\n",
       "    </tr>\n",
       "    <tr>\n",
       "      <th>2</th>\n",
       "      <td>sport</td>\n",
       "      <td>praha 1</td>\n",
       "      <td>50.085924</td>\n",
       "      <td>14.431106</td>\n",
       "    </tr>\n",
       "    <tr>\n",
       "      <th>3</th>\n",
       "      <td>sport</td>\n",
       "      <td>praha 12</td>\n",
       "      <td>50.009011</td>\n",
       "      <td>14.447198</td>\n",
       "    </tr>\n",
       "    <tr>\n",
       "      <th>4</th>\n",
       "      <td>sport</td>\n",
       "      <td>praha 7</td>\n",
       "      <td>50.096690</td>\n",
       "      <td>14.440140</td>\n",
       "    </tr>\n",
       "  </tbody>\n",
       "</table>\n",
       "</div>"
      ],
      "text/plain": [
       "    Type District_Name   latitude  longitude\n",
       "0  sport       praha 5  50.052154  14.360772\n",
       "1  sport       praha 5  50.068925  14.345478\n",
       "2  sport       praha 1  50.085924  14.431106\n",
       "3  sport      praha 12  50.009011  14.447198\n",
       "4  sport       praha 7  50.096690  14.440140"
      ]
     },
     "execution_count": 73,
     "metadata": {},
     "output_type": "execute_result"
    }
   ],
   "source": [
    "url_sport = 'http://opendata.praha.eu/datastore/dump/5d1ee13f-f6e9-4ee9-a1bd-48d5ca2bb867?format=json'\n",
    "results = requests.get(url_sport).json(encoding = \"utf8\")\n",
    "result = []\n",
    "\n",
    "result.append([\n",
    "    'sport',\n",
    "    'praha {}'.format(v[6]),\n",
    "     v[2]] for v in results['records'])\n",
    "    \n",
    "df_sport = pd.DataFrame([item for result in result for item in result])\n",
    "df_sport.columns = ['Type', 'District_Name', 'Address']\n",
    "\n",
    "print('Sport centers and clubs count: {}'.format(df_sport.shape[0]))\n",
    "\n",
    "get_coordinates(df_sport, 'Address')\n",
    "\n",
    "df_sport.drop(columns=['Address'], inplace = True)\n",
    "\n",
    "df_sport.head()"
   ]
  },
  {
   "cell_type": "code",
   "execution_count": 74,
   "metadata": {},
   "outputs": [
    {
     "name": "stdout",
     "output_type": "stream",
     "text": [
      "File prague_pois.csv Uploaded\n"
     ]
    }
   ],
   "source": [
    "df_prague_poi = pd.concat([df_prague_poi, df_sport], sort=True)\n",
    "\n",
    "poi_file_name = files['poi']\n",
    "df_prague_poi.to_csv(poi_file_name)\n",
    "upload_file(storage_creds,poi_file_name,poi_file_name)"
   ]
  },
  {
   "cell_type": "markdown",
   "metadata": {},
   "source": [
    "### 3.4 Outdoor playgrounds"
   ]
  },
  {
   "cell_type": "code",
   "execution_count": 75,
   "metadata": {},
   "outputs": [
    {
     "name": "stdout",
     "output_type": "stream",
     "text": [
      "Downloaded\n",
      "Outdoor playgrounds count: 145\n"
     ]
    },
    {
     "data": {
      "text/html": [
       "<div>\n",
       "<style scoped>\n",
       "    .dataframe tbody tr th:only-of-type {\n",
       "        vertical-align: middle;\n",
       "    }\n",
       "\n",
       "    .dataframe tbody tr th {\n",
       "        vertical-align: top;\n",
       "    }\n",
       "\n",
       "    .dataframe thead th {\n",
       "        text-align: right;\n",
       "    }\n",
       "</style>\n",
       "<table border=\"1\" class=\"dataframe\">\n",
       "  <thead>\n",
       "    <tr style=\"text-align: right;\">\n",
       "      <th></th>\n",
       "      <th>Type</th>\n",
       "      <th>District_Name</th>\n",
       "      <th>latitude</th>\n",
       "      <th>longitude</th>\n",
       "    </tr>\n",
       "  </thead>\n",
       "  <tbody>\n",
       "    <tr>\n",
       "      <th>0</th>\n",
       "      <td>playground</td>\n",
       "      <td>praha-petrovice</td>\n",
       "      <td>14.563237</td>\n",
       "      <td>50.038025</td>\n",
       "    </tr>\n",
       "    <tr>\n",
       "      <th>1</th>\n",
       "      <td>playground</td>\n",
       "      <td>praha 8</td>\n",
       "      <td>14.438850</td>\n",
       "      <td>50.134014</td>\n",
       "    </tr>\n",
       "    <tr>\n",
       "      <th>2</th>\n",
       "      <td>playground</td>\n",
       "      <td>praha 3</td>\n",
       "      <td>14.476411</td>\n",
       "      <td>50.094387</td>\n",
       "    </tr>\n",
       "    <tr>\n",
       "      <th>3</th>\n",
       "      <td>playground</td>\n",
       "      <td>praha 22</td>\n",
       "      <td>14.593131</td>\n",
       "      <td>50.036453</td>\n",
       "    </tr>\n",
       "    <tr>\n",
       "      <th>4</th>\n",
       "      <td>playground</td>\n",
       "      <td>praha 15</td>\n",
       "      <td>14.539891</td>\n",
       "      <td>50.043732</td>\n",
       "    </tr>\n",
       "  </tbody>\n",
       "</table>\n",
       "</div>"
      ],
      "text/plain": [
       "         Type    District_Name   latitude  longitude\n",
       "0  playground  praha-petrovice  14.563237  50.038025\n",
       "1  playground          praha 8  14.438850  50.134014\n",
       "2  playground          praha 3  14.476411  50.094387\n",
       "3  playground         praha 22  14.593131  50.036453\n",
       "4  playground         praha 15  14.539891  50.043732"
      ]
     },
     "execution_count": 75,
     "metadata": {},
     "output_type": "execute_result"
    }
   ],
   "source": [
    "url_playgrounds = 'http://opendata.praha.eu/dataset/3c3ca9ca-fbc0-4f97-b624-ed967f5d9a24/resource/e19c2e29-5e33-4449-8847-5dc8f5b8a2f2/download/db144c03-1a0f-456f-a32b-9c48ccfc0813-playgrounds.json'\n",
    "results = requests.get(url_playgrounds).json(encoding = \"utf8\")\n",
    "\n",
    "print('Downloaded')\n",
    "\n",
    "poi_type = 'playground'\n",
    "result = []\n",
    "\n",
    "result.append([\n",
    "    poi_type,\n",
    "    v['properties']['district'].lower(),\n",
    "    v['geometry']['coordinates'][0],\n",
    "    v['geometry']['coordinates'][1]] for v in results['features'])\n",
    "    \n",
    "df_playgrounds = pd.DataFrame([item for result in result for item in result])\n",
    "df_playgrounds.columns = ['Type', 'District_Name', 'latitude','longitude']\n",
    "\n",
    "indeces=df_playgrounds.loc[df_playgrounds.District_Name.str.contains('[-][0-9]', regex=True)].index\n",
    "df_playgrounds.loc[indeces, 'District_Name'] = df_playgrounds.loc[indeces, 'District_Name'].str.replace('-', ' ')\n",
    "print('Outdoor playgrounds count: {}'.format(df_playgrounds.shape[0]))\n",
    "\n",
    "df_playgrounds.head()"
   ]
  },
  {
   "cell_type": "code",
   "execution_count": 76,
   "metadata": {},
   "outputs": [
    {
     "name": "stdout",
     "output_type": "stream",
     "text": [
      "File prague_pois.csv Uploaded\n"
     ]
    }
   ],
   "source": [
    "df_prague_poi = pd.concat([df_prague_poi, df_playgrounds], sort=True)\n",
    "\n",
    "poi_file_name = files['poi']\n",
    "df_prague_poi.to_csv(poi_file_name)\n",
    "upload_file(storage_creds,poi_file_name,poi_file_name)"
   ]
  },
  {
   "cell_type": "code",
   "execution_count": 77,
   "metadata": {},
   "outputs": [
    {
     "data": {
      "text/plain": [
       "(1623, 4)"
      ]
     },
     "execution_count": 77,
     "metadata": {},
     "output_type": "execute_result"
    }
   ],
   "source": [
    "df_prague_poi.shape"
   ]
  },
  {
   "cell_type": "markdown",
   "metadata": {},
   "source": [
    "### 4. Results"
   ]
  },
  {
   "cell_type": "markdown",
   "metadata": {},
   "source": [
    "### 4.1 Children population by districts in Prague. "
   ]
  },
  {
   "cell_type": "code",
   "execution_count": 78,
   "metadata": {},
   "outputs": [
    {
     "name": "stdout",
     "output_type": "stream",
     "text": [
      "Total districts:  57\n"
     ]
    }
   ],
   "source": [
    "print(\"Total districts: \", len(df_prague))"
   ]
  },
  {
   "cell_type": "code",
   "execution_count": 79,
   "metadata": {},
   "outputs": [
    {
     "data": {
      "text/html": [
       "<div>\n",
       "<style scoped>\n",
       "    .dataframe tbody tr th:only-of-type {\n",
       "        vertical-align: middle;\n",
       "    }\n",
       "\n",
       "    .dataframe tbody tr th {\n",
       "        vertical-align: top;\n",
       "    }\n",
       "\n",
       "    .dataframe thead th {\n",
       "        text-align: right;\n",
       "    }\n",
       "</style>\n",
       "<table border=\"1\" class=\"dataframe\">\n",
       "  <thead>\n",
       "    <tr style=\"text-align: right;\">\n",
       "      <th></th>\n",
       "      <th>Name</th>\n",
       "      <th>Geometry</th>\n",
       "      <th>Area</th>\n",
       "      <th>Total</th>\n",
       "      <th>Kids</th>\n",
       "      <th>Middle</th>\n",
       "      <th>Senior</th>\n",
       "      <th>Kids_per_1000</th>\n",
       "      <th>latitude</th>\n",
       "      <th>longitude</th>\n",
       "    </tr>\n",
       "  </thead>\n",
       "  <tbody>\n",
       "    <tr>\n",
       "      <th>0</th>\n",
       "      <td>praha 1</td>\n",
       "      <td>[[14.410891049000043, 50.078674687000046], [14...</td>\n",
       "      <td>5538443.86</td>\n",
       "      <td>30561.0</td>\n",
       "      <td>2391.0</td>\n",
       "      <td>22963.0</td>\n",
       "      <td>4594.0</td>\n",
       "      <td>104.124026</td>\n",
       "      <td>50.08728</td>\n",
       "      <td>14.41742</td>\n",
       "    </tr>\n",
       "    <tr>\n",
       "      <th>1</th>\n",
       "      <td>praha 10</td>\n",
       "      <td>[[14.531321086000048, 50.072240288000046], [14...</td>\n",
       "      <td>18599366.98</td>\n",
       "      <td>113200.0</td>\n",
       "      <td>12213.0</td>\n",
       "      <td>76625.0</td>\n",
       "      <td>23937.0</td>\n",
       "      <td>159.386623</td>\n",
       "      <td>50.06762</td>\n",
       "      <td>14.46016</td>\n",
       "    </tr>\n",
       "    <tr>\n",
       "      <th>2</th>\n",
       "      <td>praha 11</td>\n",
       "      <td>[[14.54355294800007, 50.03618763800006], [14.5...</td>\n",
       "      <td>9793679.84</td>\n",
       "      <td>75741.0</td>\n",
       "      <td>8688.0</td>\n",
       "      <td>54983.0</td>\n",
       "      <td>11816.0</td>\n",
       "      <td>158.012477</td>\n",
       "      <td>50.03178</td>\n",
       "      <td>14.50719</td>\n",
       "    </tr>\n",
       "    <tr>\n",
       "      <th>3</th>\n",
       "      <td>praha 12</td>\n",
       "      <td>[[14.450632163000023, 50.01452735600003], [14....</td>\n",
       "      <td>23317909.06</td>\n",
       "      <td>53515.0</td>\n",
       "      <td>6156.0</td>\n",
       "      <td>39699.0</td>\n",
       "      <td>7480.0</td>\n",
       "      <td>155.066878</td>\n",
       "      <td>50.00564</td>\n",
       "      <td>14.40462</td>\n",
       "    </tr>\n",
       "    <tr>\n",
       "      <th>4</th>\n",
       "      <td>praha 13</td>\n",
       "      <td>[[14.320621949000042, 50.04010680700003], [14....</td>\n",
       "      <td>13196802.19</td>\n",
       "      <td>59906.0</td>\n",
       "      <td>7985.0</td>\n",
       "      <td>46514.0</td>\n",
       "      <td>5109.0</td>\n",
       "      <td>171.668745</td>\n",
       "      <td>50.05163</td>\n",
       "      <td>14.34231</td>\n",
       "    </tr>\n",
       "  </tbody>\n",
       "</table>\n",
       "</div>"
      ],
      "text/plain": [
       "       Name                                           Geometry         Area  \\\n",
       "0   praha 1  [[14.410891049000043, 50.078674687000046], [14...   5538443.86   \n",
       "1  praha 10  [[14.531321086000048, 50.072240288000046], [14...  18599366.98   \n",
       "2  praha 11  [[14.54355294800007, 50.03618763800006], [14.5...   9793679.84   \n",
       "3  praha 12  [[14.450632163000023, 50.01452735600003], [14....  23317909.06   \n",
       "4  praha 13  [[14.320621949000042, 50.04010680700003], [14....  13196802.19   \n",
       "\n",
       "      Total     Kids   Middle   Senior  Kids_per_1000  latitude  longitude  \n",
       "0   30561.0   2391.0  22963.0   4594.0     104.124026  50.08728   14.41742  \n",
       "1  113200.0  12213.0  76625.0  23937.0     159.386623  50.06762   14.46016  \n",
       "2   75741.0   8688.0  54983.0  11816.0     158.012477  50.03178   14.50719  \n",
       "3   53515.0   6156.0  39699.0   7480.0     155.066878  50.00564   14.40462  \n",
       "4   59906.0   7985.0  46514.0   5109.0     171.668745  50.05163   14.34231  "
      ]
     },
     "execution_count": 79,
     "metadata": {},
     "output_type": "execute_result"
    }
   ],
   "source": [
    "df_prague.head()"
   ]
  },
  {
   "cell_type": "markdown",
   "metadata": {},
   "source": [
    "### 4.2 Points of intererests"
   ]
  },
  {
   "cell_type": "code",
   "execution_count": 80,
   "metadata": {},
   "outputs": [
    {
     "name": "stdout",
     "output_type": "stream",
     "text": [
      "Points of interest colleted for  36  districts\n",
      "Total points of interest:  1623\n",
      "Total points of interest types:  5\n",
      "   school: 517\n",
      "   educatioanal center: 43\n",
      "   library: 41\n",
      "   sport: 877\n",
      "   playground: 145\n"
     ]
    }
   ],
   "source": [
    "print(\"Points of interest colleted for \", len(df_prague_poi['District_Name'].unique()), ' districts')\n",
    "print(\"Total points of interest: \", len(df_prague_poi))\n",
    "print(\"Total points of interest types: \", len(df_prague_poi['Type'].unique()))\n",
    "for t in df_prague_poi['Type'].unique():\n",
    "    print(\"   {}: {}\".format(t, len(df_prague_poi[df_prague_poi.Type == t])))"
   ]
  },
  {
   "cell_type": "code",
   "execution_count": 81,
   "metadata": {},
   "outputs": [
    {
     "data": {
      "text/html": [
       "<div>\n",
       "<style scoped>\n",
       "    .dataframe tbody tr th:only-of-type {\n",
       "        vertical-align: middle;\n",
       "    }\n",
       "\n",
       "    .dataframe tbody tr th {\n",
       "        vertical-align: top;\n",
       "    }\n",
       "\n",
       "    .dataframe thead th {\n",
       "        text-align: right;\n",
       "    }\n",
       "</style>\n",
       "<table border=\"1\" class=\"dataframe\">\n",
       "  <thead>\n",
       "    <tr style=\"text-align: right;\">\n",
       "      <th></th>\n",
       "      <th>District_Name</th>\n",
       "      <th>Type</th>\n",
       "      <th>latitude</th>\n",
       "      <th>longitude</th>\n",
       "    </tr>\n",
       "  </thead>\n",
       "  <tbody>\n",
       "    <tr>\n",
       "      <th>5</th>\n",
       "      <td>praha 4</td>\n",
       "      <td>school</td>\n",
       "      <td>50.008620</td>\n",
       "      <td>14.448992</td>\n",
       "    </tr>\n",
       "    <tr>\n",
       "      <th>22</th>\n",
       "      <td>praha 1</td>\n",
       "      <td>school</td>\n",
       "      <td>50.080344</td>\n",
       "      <td>14.415264</td>\n",
       "    </tr>\n",
       "    <tr>\n",
       "      <th>25</th>\n",
       "      <td>praha 1</td>\n",
       "      <td>school</td>\n",
       "      <td>50.090834</td>\n",
       "      <td>14.428853</td>\n",
       "    </tr>\n",
       "    <tr>\n",
       "      <th>26</th>\n",
       "      <td>praha 1</td>\n",
       "      <td>school</td>\n",
       "      <td>50.090834</td>\n",
       "      <td>14.428853</td>\n",
       "    </tr>\n",
       "    <tr>\n",
       "      <th>30</th>\n",
       "      <td>praha 4</td>\n",
       "      <td>school</td>\n",
       "      <td>50.001684</td>\n",
       "      <td>14.413886</td>\n",
       "    </tr>\n",
       "  </tbody>\n",
       "</table>\n",
       "</div>"
      ],
      "text/plain": [
       "   District_Name    Type   latitude  longitude\n",
       "5        praha 4  school  50.008620  14.448992\n",
       "22       praha 1  school  50.080344  14.415264\n",
       "25       praha 1  school  50.090834  14.428853\n",
       "26       praha 1  school  50.090834  14.428853\n",
       "30       praha 4  school  50.001684  14.413886"
      ]
     },
     "execution_count": 81,
     "metadata": {},
     "output_type": "execute_result"
    }
   ],
   "source": [
    "df_prague_poi.head()"
   ]
  }
 ],
 "metadata": {
  "kernelspec": {
   "display_name": "Python 3.6",
   "language": "python",
   "name": "python3"
  },
  "language_info": {
   "codemirror_mode": {
    "name": "ipython",
    "version": 3
   },
   "file_extension": ".py",
   "mimetype": "text/x-python",
   "name": "python",
   "nbconvert_exporter": "python",
   "pygments_lexer": "ipython3",
   "version": "3.6.8"
  }
 },
 "nbformat": 4,
 "nbformat_minor": 1
}
