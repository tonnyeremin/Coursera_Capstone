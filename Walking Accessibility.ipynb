{
    "nbformat_minor": 1, 
    "cells": [
        {
            "execution_count": 1, 
            "cell_type": "code", 
            "metadata": {}, 
            "outputs": [
                {
                    "output_type": "stream", 
                    "name": "stdout", 
                    "text": "Requirement already satisfied: folium in /opt/conda/envs/Python36/lib/python3.6/site-packages (0.10.0)\nRequirement already satisfied: jinja2>=2.9 in /opt/conda/envs/Python36/lib/python3.6/site-packages (from folium) (2.10)\nRequirement already satisfied: branca>=0.3.0 in /opt/conda/envs/Python36/lib/python3.6/site-packages (from folium) (0.3.1)\nRequirement already satisfied: requests in /opt/conda/envs/Python36/lib/python3.6/site-packages (from folium) (2.21.0)\nRequirement already satisfied: numpy in /opt/conda/envs/Python36/lib/python3.6/site-packages (from folium) (1.17.2)\nRequirement already satisfied: MarkupSafe>=0.23 in /opt/conda/envs/Python36/lib/python3.6/site-packages (from jinja2>=2.9->folium) (1.1.0)\nRequirement already satisfied: six in /opt/conda/envs/Python36/lib/python3.6/site-packages (from branca>=0.3.0->folium) (1.12.0)\nRequirement already satisfied: urllib3<1.25,>=1.21.1 in /opt/conda/envs/Python36/lib/python3.6/site-packages (from requests->folium) (1.24.1)\nRequirement already satisfied: certifi>=2017.4.17 in /opt/conda/envs/Python36/lib/python3.6/site-packages (from requests->folium) (2019.6.16)\nRequirement already satisfied: idna<2.9,>=2.5 in /opt/conda/envs/Python36/lib/python3.6/site-packages (from requests->folium) (2.8)\nRequirement already satisfied: chardet<3.1.0,>=3.0.2 in /opt/conda/envs/Python36/lib/python3.6/site-packages (from requests->folium) (3.0.4)\n"
                }
            ], 
            "source": "!pip install folium"
        }, 
        {
            "execution_count": 6, 
            "cell_type": "code", 
            "metadata": {}, 
            "outputs": [
                {
                    "output_type": "stream", 
                    "name": "stdout", 
                    "text": "Solving environment: done\n\n## Package Plan ##\n\n  environment location: /opt/conda/envs/Python36\n\n  removed specs: \n    - geopandas\n\n\nThe following packages will be REMOVED:\n\n    geopandas: 0.4.1-py_0            \n    osmnx:     0.10-py_1  conda-forge\n\nPreparing transaction: done\nVerifying transaction: done\nExecuting transaction: done\n"
                }
            ], 
            "source": "!conda uninstall geopandas"
        }, 
        {
            "execution_count": 8, 
            "cell_type": "code", 
            "metadata": {}, 
            "outputs": [
                {
                    "output_type": "stream", 
                    "name": "stdout", 
                    "text": "Collecting osmnx\n  Using cached https://files.pythonhosted.org/packages/69/77/98cbee7f94abe2c60013fd8751f2b2d6054d48078c61f9774cff0b341f43/osmnx-0.10-py2.py3-none-any.whl\nRequirement already satisfied: descartes>=1.1 in /opt/conda/envs/Python36/lib/python3.6/site-packages (from osmnx) (1.1.0)\nRequirement already satisfied: geopandas>=0.5 in /opt/conda/envs/Python36/lib/python3.6/site-packages (from osmnx) (0.5.1)\nRequirement already satisfied: requests>=2.21 in /opt/conda/envs/Python36/lib/python3.6/site-packages (from osmnx) (2.21.0)\nRequirement already satisfied: Shapely>=1.6 in /opt/conda/envs/Python36/lib/python3.6/site-packages (from osmnx) (1.6.4.post2)\nRequirement already satisfied: numpy>=1.16 in /opt/conda/envs/Python36/lib/python3.6/site-packages (from osmnx) (1.17.2)\nRequirement already satisfied: Rtree>=0.8.3 in /opt/conda/envs/Python36/lib/python3.6/site-packages (from osmnx) (0.8.3)\nRequirement already satisfied: pandas>=0.24 in /opt/conda/envs/Python36/lib/python3.6/site-packages (from osmnx) (0.24.1)\nRequirement already satisfied: matplotlib>=2.2 in /opt/conda/envs/Python36/lib/python3.6/site-packages (from osmnx) (3.0.2)\nRequirement already satisfied: networkx>=2.3 in /opt/conda/envs/Python36/lib/python3.6/site-packages (from osmnx) (2.3)\nRequirement already satisfied: fiona in /opt/conda/envs/Python36/lib/python3.6/site-packages (from geopandas>=0.5->osmnx) (1.8.6)\nRequirement already satisfied: pyproj in /opt/conda/envs/Python36/lib/python3.6/site-packages (from geopandas>=0.5->osmnx) (2.4.0)\nRequirement already satisfied: certifi>=2017.4.17 in /opt/conda/envs/Python36/lib/python3.6/site-packages (from requests>=2.21->osmnx) (2019.6.16)\nRequirement already satisfied: urllib3<1.25,>=1.21.1 in /opt/conda/envs/Python36/lib/python3.6/site-packages (from requests>=2.21->osmnx) (1.24.1)\nRequirement already satisfied: chardet<3.1.0,>=3.0.2 in /opt/conda/envs/Python36/lib/python3.6/site-packages (from requests>=2.21->osmnx) (3.0.4)\nRequirement already satisfied: idna<2.9,>=2.5 in /opt/conda/envs/Python36/lib/python3.6/site-packages (from requests>=2.21->osmnx) (2.8)\nRequirement already satisfied: setuptools in /opt/conda/envs/Python36/lib/python3.6/site-packages (from Rtree>=0.8.3->osmnx) (40.8.0)\nRequirement already satisfied: python-dateutil>=2.5.0 in /opt/conda/envs/Python36/lib/python3.6/site-packages (from pandas>=0.24->osmnx) (2.7.5)\nRequirement already satisfied: pytz>=2011k in /opt/conda/envs/Python36/lib/python3.6/site-packages (from pandas>=0.24->osmnx) (2018.9)\nRequirement already satisfied: cycler>=0.10 in /opt/conda/envs/Python36/lib/python3.6/site-packages (from matplotlib>=2.2->osmnx) (0.10.0)\nRequirement already satisfied: kiwisolver>=1.0.1 in /opt/conda/envs/Python36/lib/python3.6/site-packages (from matplotlib>=2.2->osmnx) (1.0.1)\nRequirement already satisfied: pyparsing!=2.0.4,!=2.1.2,!=2.1.6,>=2.0.1 in /opt/conda/envs/Python36/lib/python3.6/site-packages (from matplotlib>=2.2->osmnx) (2.3.1)\nRequirement already satisfied: decorator>=4.3.0 in /opt/conda/envs/Python36/lib/python3.6/site-packages (from networkx>=2.3->osmnx) (4.3.2)\nRequirement already satisfied: click-plugins>=1.0 in /opt/conda/envs/Python36/lib/python3.6/site-packages (from fiona->geopandas>=0.5->osmnx) (1.1.1)\nRequirement already satisfied: click<8,>=4.0 in /opt/conda/envs/Python36/lib/python3.6/site-packages (from fiona->geopandas>=0.5->osmnx) (7.0)\nRequirement already satisfied: cligj>=0.5 in /opt/conda/envs/Python36/lib/python3.6/site-packages (from fiona->geopandas>=0.5->osmnx) (0.5.0)\nRequirement already satisfied: six>=1.7 in /opt/conda/envs/Python36/lib/python3.6/site-packages (from fiona->geopandas>=0.5->osmnx) (1.12.0)\nRequirement already satisfied: munch in /opt/conda/envs/Python36/lib/python3.6/site-packages (from fiona->geopandas>=0.5->osmnx) (2.3.2)\nRequirement already satisfied: attrs>=17 in /opt/conda/envs/Python36/lib/python3.6/site-packages (from fiona->geopandas>=0.5->osmnx) (18.2.0)\nInstalling collected packages: osmnx\nSuccessfully installed osmnx-0.10\n"
                }
            ], 
            "source": ""
        }, 
        {
            "execution_count": 51, 
            "cell_type": "code", 
            "metadata": {}, 
            "outputs": [
                {
                    "output_type": "stream", 
                    "name": "stdout", 
                    "text": "Requirement already satisfied: geopandas in /opt/conda/envs/Python36/lib/python3.6/site-packages (0.5.1)\nRequirement already satisfied: shapely in /opt/conda/envs/Python36/lib/python3.6/site-packages (from geopandas) (1.6.4.post2)\nRequirement already satisfied: pandas in /opt/conda/envs/Python36/lib/python3.6/site-packages (from geopandas) (0.24.1)\nRequirement already satisfied: pyproj in /opt/conda/envs/Python36/lib/python3.6/site-packages (from geopandas) (2.4.0)\nRequirement already satisfied: fiona in /opt/conda/envs/Python36/lib/python3.6/site-packages (from geopandas) (1.8.6)\nRequirement already satisfied: pytz>=2011k in /opt/conda/envs/Python36/lib/python3.6/site-packages (from pandas->geopandas) (2018.9)\nRequirement already satisfied: python-dateutil>=2.5.0 in /opt/conda/envs/Python36/lib/python3.6/site-packages (from pandas->geopandas) (2.7.5)\nRequirement already satisfied: numpy>=1.12.0 in /opt/conda/envs/Python36/lib/python3.6/site-packages (from pandas->geopandas) (1.17.2)\nRequirement already satisfied: attrs>=17 in /opt/conda/envs/Python36/lib/python3.6/site-packages (from fiona->geopandas) (18.2.0)\nRequirement already satisfied: six>=1.7 in /opt/conda/envs/Python36/lib/python3.6/site-packages (from fiona->geopandas) (1.12.0)\nRequirement already satisfied: cligj>=0.5 in /opt/conda/envs/Python36/lib/python3.6/site-packages (from fiona->geopandas) (0.5.0)\nRequirement already satisfied: munch in /opt/conda/envs/Python36/lib/python3.6/site-packages (from fiona->geopandas) (2.3.2)\nRequirement already satisfied: click-plugins>=1.0 in /opt/conda/envs/Python36/lib/python3.6/site-packages (from fiona->geopandas) (1.1.1)\nRequirement already satisfied: click<8,>=4.0 in /opt/conda/envs/Python36/lib/python3.6/site-packages (from fiona->geopandas) (7.0)\nRequirement already satisfied: geocoder in /opt/conda/envs/Python36/lib/python3.6/site-packages (1.38.1)\nRequirement already satisfied: requests in /opt/conda/envs/Python36/lib/python3.6/site-packages (from geocoder) (2.21.0)\nRequirement already satisfied: six in /opt/conda/envs/Python36/lib/python3.6/site-packages (from geocoder) (1.12.0)\nRequirement already satisfied: click in /opt/conda/envs/Python36/lib/python3.6/site-packages (from geocoder) (7.0)\nRequirement already satisfied: ratelim in /opt/conda/envs/Python36/lib/python3.6/site-packages (from geocoder) (0.1.6)\nRequirement already satisfied: future in /opt/conda/envs/Python36/lib/python3.6/site-packages (from geocoder) (0.17.1)\nRequirement already satisfied: certifi>=2017.4.17 in /opt/conda/envs/Python36/lib/python3.6/site-packages (from requests->geocoder) (2019.6.16)\nRequirement already satisfied: idna<2.9,>=2.5 in /opt/conda/envs/Python36/lib/python3.6/site-packages (from requests->geocoder) (2.8)\nRequirement already satisfied: urllib3<1.25,>=1.21.1 in /opt/conda/envs/Python36/lib/python3.6/site-packages (from requests->geocoder) (1.24.1)\nRequirement already satisfied: chardet<3.1.0,>=3.0.2 in /opt/conda/envs/Python36/lib/python3.6/site-packages (from requests->geocoder) (3.0.4)\nRequirement already satisfied: decorator in /opt/conda/envs/Python36/lib/python3.6/site-packages (from ratelim->geocoder) (4.3.2)\nRequirement already satisfied: rtree in /opt/conda/envs/Python36/lib/python3.6/site-packages (0.8.3)\nRequirement already satisfied: setuptools in /opt/conda/envs/Python36/lib/python3.6/site-packages (from rtree) (40.8.0)\n"
                }
            ], 
            "source": "!pip install geopandas\n!pip install geocoder\n!pip install rtree"
        }, 
        {
            "execution_count": null, 
            "cell_type": "code", 
            "metadata": {}, 
            "outputs": [], 
            "source": "!pip force uninstall  osmnx"
        }, 
        {
            "execution_count": 9, 
            "cell_type": "code", 
            "metadata": {}, 
            "outputs": [], 
            "source": "import pandas as pd\nimport numpy as np\nimport matplotlib\nimport matplotlib.pyplot as plt\nimport folium\nimport geocoder\nimport json\nimport urllib.request\nimport requests\n\nfrom pandas.io.json import json_normalize\nimport rtree"
        }, 
        {
            "execution_count": 49, 
            "cell_type": "code", 
            "metadata": {}, 
            "outputs": [], 
            "source": "import geopandas\nimport osmnx as osm"
        }, 
        {
            "execution_count": 16, 
            "cell_type": "code", 
            "metadata": {}, 
            "outputs": [
                {
                    "execution_count": 16, 
                    "metadata": {}, 
                    "data": {
                        "text/html": "<div>\n<style scoped>\n    .dataframe tbody tr th:only-of-type {\n        vertical-align: middle;\n    }\n\n    .dataframe tbody tr th {\n        vertical-align: top;\n    }\n\n    .dataframe thead th {\n        text-align: right;\n    }\n</style>\n<table border=\"1\" class=\"dataframe\">\n  <thead>\n    <tr style=\"text-align: right;\">\n      <th></th>\n      <th>geometry.coordinates</th>\n      <th>geometry.type</th>\n      <th>properties.DAT_VZNIK</th>\n      <th>properties.DAT_ZMENA</th>\n      <th>properties.ID</th>\n      <th>properties.ID_POSKYT</th>\n      <th>properties.KOD_MC</th>\n      <th>properties.KOD_MO</th>\n      <th>properties.KOD_SO</th>\n      <th>properties.NAZEV_1</th>\n      <th>properties.NAZEV_MC</th>\n      <th>properties.OBJECTID</th>\n      <th>properties.PLOCHA</th>\n      <th>properties.POSKYT</th>\n      <th>properties.STAV_ZMENA</th>\n      <th>properties.Shape_Area</th>\n      <th>properties.Shape_Length</th>\n      <th>properties.TID_TMMESTSKECASTI_P</th>\n      <th>type</th>\n    </tr>\n  </thead>\n  <tbody>\n    <tr>\n      <th>0</th>\n      <td>[[[-750495.6799868979, -1052524.009964496], [-...</td>\n      <td>Polygon</td>\n      <td>20180105160833</td>\n      <td>20190605145441</td>\n      <td>13</td>\n      <td>43</td>\n      <td>539635</td>\n      <td>51</td>\n      <td>132</td>\n      <td>\u0158eporyje</td>\n      <td>Praha-\u0158eporyje</td>\n      <td>1</td>\n      <td>9902539.83</td>\n      <td>HMP-IPR</td>\n      <td>U</td>\n      <td>9.902540e+06</td>\n      <td>24169.831485</td>\n      <td>13</td>\n      <td>Feature</td>\n    </tr>\n    <tr>\n      <th>1</th>\n      <td>[[[-743677.7200093269, -1043880.2599875033], [...</td>\n      <td>Polygon</td>\n      <td>20180910110223</td>\n      <td>20180910113234</td>\n      <td>43</td>\n      <td>43</td>\n      <td>500054</td>\n      <td>19</td>\n      <td>19</td>\n      <td>Praha 1</td>\n      <td>Praha 1</td>\n      <td>2</td>\n      <td>5538443.86</td>\n      <td>HMP-IPR</td>\n      <td>U</td>\n      <td>5.538444e+06</td>\n      <td>12392.076909</td>\n      <td>43</td>\n      <td>Feature</td>\n    </tr>\n    <tr>\n      <th>2</th>\n      <td>[[[-752038.7200328708, -1042852.1399567612], [...</td>\n      <td>Polygon</td>\n      <td>20181204155900</td>\n      <td>20181210155705</td>\n      <td>1</td>\n      <td>43</td>\n      <td>500178</td>\n      <td>60</td>\n      <td>60</td>\n      <td>Praha 6</td>\n      <td>Praha 6</td>\n      <td>3</td>\n      <td>41561204.34</td>\n      <td>HMP-IPR</td>\n      <td>U</td>\n      <td>4.156120e+07</td>\n      <td>49571.843399</td>\n      <td>1</td>\n      <td>Feature</td>\n    </tr>\n    <tr>\n      <th>3</th>\n      <td>[[[-738597.8700456135, -1042441.1000244282], [...</td>\n      <td>Polygon</td>\n      <td>20170817145228</td>\n      <td>20170818091113</td>\n      <td>10</td>\n      <td>43</td>\n      <td>500216</td>\n      <td>94</td>\n      <td>94</td>\n      <td>Praha 9</td>\n      <td>Praha 9</td>\n      <td>4</td>\n      <td>13310394.12</td>\n      <td>HMP-IPR</td>\n      <td>U</td>\n      <td>1.331039e+07</td>\n      <td>20976.089531</td>\n      <td>10</td>\n      <td>Feature</td>\n    </tr>\n    <tr>\n      <th>4</th>\n      <td>[[[-744523.739970047, -1038623.3699529357], [-...</td>\n      <td>Polygon</td>\n      <td>20181009145125</td>\n      <td>20190821104230</td>\n      <td>44</td>\n      <td>43</td>\n      <td>547271</td>\n      <td>60</td>\n      <td>60</td>\n      <td>Suchdol</td>\n      <td>Praha-Suchdol</td>\n      <td>5</td>\n      <td>5135601.75</td>\n      <td>HMP-IPR</td>\n      <td>U</td>\n      <td>5.135602e+06</td>\n      <td>13199.702891</td>\n      <td>44</td>\n      <td>Feature</td>\n    </tr>\n  </tbody>\n</table>\n</div>", 
                        "text/plain": "                                geometry.coordinates geometry.type  \\\n0  [[[-750495.6799868979, -1052524.009964496], [-...       Polygon   \n1  [[[-743677.7200093269, -1043880.2599875033], [...       Polygon   \n2  [[[-752038.7200328708, -1042852.1399567612], [...       Polygon   \n3  [[[-738597.8700456135, -1042441.1000244282], [...       Polygon   \n4  [[[-744523.739970047, -1038623.3699529357], [-...       Polygon   \n\n  properties.DAT_VZNIK properties.DAT_ZMENA  properties.ID  \\\n0       20180105160833       20190605145441             13   \n1       20180910110223       20180910113234             43   \n2       20181204155900       20181210155705              1   \n3       20170817145228       20170818091113             10   \n4       20181009145125       20190821104230             44   \n\n   properties.ID_POSKYT  properties.KOD_MC  properties.KOD_MO  \\\n0                    43             539635                 51   \n1                    43             500054                 19   \n2                    43             500178                 60   \n3                    43             500216                 94   \n4                    43             547271                 60   \n\n  properties.KOD_SO properties.NAZEV_1 properties.NAZEV_MC  \\\n0               132           \u0158eporyje      Praha-\u0158eporyje   \n1                19            Praha 1             Praha 1   \n2                60            Praha 6             Praha 6   \n3                94            Praha 9             Praha 9   \n4                60            Suchdol       Praha-Suchdol   \n\n   properties.OBJECTID  properties.PLOCHA properties.POSKYT  \\\n0                    1         9902539.83           HMP-IPR   \n1                    2         5538443.86           HMP-IPR   \n2                    3        41561204.34           HMP-IPR   \n3                    4        13310394.12           HMP-IPR   \n4                    5         5135601.75           HMP-IPR   \n\n  properties.STAV_ZMENA  properties.Shape_Area  properties.Shape_Length  \\\n0                     U           9.902540e+06             24169.831485   \n1                     U           5.538444e+06             12392.076909   \n2                     U           4.156120e+07             49571.843399   \n3                     U           1.331039e+07             20976.089531   \n4                     U           5.135602e+06             13199.702891   \n\n   properties.TID_TMMESTSKECASTI_P     type  \n0                               13  Feature  \n1                               43  Feature  \n2                                1  Feature  \n3                               10  Feature  \n4                               44  Feature  "
                    }, 
                    "output_type": "execute_result"
                }
            ], 
            "source": "mestky_casty_url = 'http://opendata.iprpraha.cz/CUR/DTMP/TMMESTSKECASTI_P/S_JTSK/TMMESTSKECASTI_P.json'\nresults = requests.get(mestky_casty_url).json(encoding = \"ISO 8859-2\")\nmestky_casty = json_normalize(results['features']) \nmestky_casty.head()"
        }, 
        {
            "execution_count": 22, 
            "cell_type": "code", 
            "metadata": {}, 
            "outputs": [], 
            "source": "result = []\n\nresult.append([\n    v['properties']['ID'],\n    v['properties']['NAZEV_MC'],\n    v['geometry']['coordinates'],\n    v['properties']['PLOCHA']] for v in results['features'])\n    \ndf_prague = pd.DataFrame([item for result in result for item in result])\ndf_prague.columns = ['ID', 'Neigborouhood', 'Geometry', 'Area']"
        }, 
        {
            "execution_count": 29, 
            "cell_type": "code", 
            "metadata": {}, 
            "outputs": [], 
            "source": "df_prague.sort_values('Neigborouhood', inplace = True)"
        }, 
        {
            "execution_count": 32, 
            "cell_type": "code", 
            "metadata": {}, 
            "outputs": [
                {
                    "execution_count": 32, 
                    "metadata": {}, 
                    "data": {
                        "text/html": "<div>\n<style scoped>\n    .dataframe tbody tr th:only-of-type {\n        vertical-align: middle;\n    }\n\n    .dataframe tbody tr th {\n        vertical-align: top;\n    }\n\n    .dataframe thead th {\n        text-align: right;\n    }\n</style>\n<table border=\"1\" class=\"dataframe\">\n  <thead>\n    <tr style=\"text-align: right;\">\n      <th></th>\n      <th>ID</th>\n      <th>Neigborouhood</th>\n      <th>Geometry</th>\n      <th>Area</th>\n      <th>latitude</th>\n      <th>longitude</th>\n    </tr>\n  </thead>\n  <tbody>\n    <tr>\n      <th>1</th>\n      <td>43</td>\n      <td>Praha 1</td>\n      <td>[[[-743677.7200093269, -1043880.2599875033], [...</td>\n      <td>5538443.86</td>\n      <td>50.08728</td>\n      <td>14.41742</td>\n    </tr>\n    <tr>\n      <th>12</th>\n      <td>6</td>\n      <td>Praha 10</td>\n      <td>[[[-735234.4999993183, -1045758.7199782543], [...</td>\n      <td>18599366.98</td>\n      <td>50.06055</td>\n      <td>14.55703</td>\n    </tr>\n    <tr>\n      <th>26</th>\n      <td>15</td>\n      <td>Praha 11</td>\n      <td>[[[-734907.0599532239, -1049849.9600047208], [...</td>\n      <td>9793679.84</td>\n      <td>50.03178</td>\n      <td>14.50719</td>\n    </tr>\n    <tr>\n      <th>9</th>\n      <td>4</td>\n      <td>Praha 12</td>\n      <td>[[[-741829.710013561, -1051335.8699600995], [-...</td>\n      <td>23317909.06</td>\n      <td>50.00564</td>\n      <td>14.40462</td>\n    </tr>\n    <tr>\n      <th>18</th>\n      <td>11</td>\n      <td>Praha 13</td>\n      <td>[[[-750667.9699585326, -1047243.4200338311], [...</td>\n      <td>13196802.19</td>\n      <td>50.05163</td>\n      <td>14.34231</td>\n    </tr>\n  </tbody>\n</table>\n</div>", 
                        "text/plain": "    ID Neigborouhood                                           Geometry  \\\n1   43       Praha 1  [[[-743677.7200093269, -1043880.2599875033], [...   \n12   6      Praha 10  [[[-735234.4999993183, -1045758.7199782543], [...   \n26  15      Praha 11  [[[-734907.0599532239, -1049849.9600047208], [...   \n9    4      Praha 12  [[[-741829.710013561, -1051335.8699600995], [-...   \n18  11      Praha 13  [[[-750667.9699585326, -1047243.4200338311], [...   \n\n           Area  latitude  longitude  \n1    5538443.86  50.08728   14.41742  \n12  18599366.98  50.06055   14.55703  \n26   9793679.84  50.03178   14.50719  \n9   23317909.06  50.00564   14.40462  \n18  13196802.19  50.05163   14.34231  "
                    }, 
                    "output_type": "execute_result"
                }
            ], 
            "source": "dict_coordinates = {}\nfor index, row in df_prague.iterrows():\n    g = geocoder.arcgis(row['Neigborouhood'])\n    lat = g.json['lat']\n    lng = g.json['lng']\n    dict_coordinates[row['Neigborouhood']] = [lat, lng]\n    \ndf_prague['latitude'] = 0.0\ndf_prague['longitude'] = 0.0\nfor k, v in dict_coordinates.items():\n    df_prague.loc[df_prague.Neigborouhood == k,'latitude']=v[0]\n    df_prague.loc[df_prague.Neigborouhood == k,'longitude']=v[1]\n    \ndf_prague.head()"
        }, 
        {
            "execution_count": 48, 
            "cell_type": "code", 
            "metadata": {}, 
            "outputs": [
                {
                    "execution_count": 48, 
                    "metadata": {}, 
                    "data": {
                        "text/html": "<div>\n<style scoped>\n    .dataframe tbody tr th:only-of-type {\n        vertical-align: middle;\n    }\n\n    .dataframe tbody tr th {\n        vertical-align: top;\n    }\n\n    .dataframe thead th {\n        text-align: right;\n    }\n</style>\n<table border=\"1\" class=\"dataframe\">\n  <thead>\n    <tr style=\"text-align: right;\">\n      <th></th>\n      <th>ID</th>\n      <th>Neigborouhood</th>\n      <th>Geometry</th>\n      <th>Area</th>\n      <th>latitude</th>\n      <th>longitude</th>\n    </tr>\n  </thead>\n  <tbody>\n    <tr>\n      <th>1</th>\n      <td>43</td>\n      <td>Praha 1</td>\n      <td>[[[-743677.7200093269, -1043880.2599875033], [...</td>\n      <td>5538443.86</td>\n      <td>50.08728</td>\n      <td>14.41742</td>\n    </tr>\n    <tr>\n      <th>12</th>\n      <td>6</td>\n      <td>Praha 10</td>\n      <td>[[[-735234.4999993183, -1045758.7199782543], [...</td>\n      <td>18599366.98</td>\n      <td>50.06055</td>\n      <td>14.55703</td>\n    </tr>\n    <tr>\n      <th>26</th>\n      <td>15</td>\n      <td>Praha 11</td>\n      <td>[[[-734907.0599532239, -1049849.9600047208], [...</td>\n      <td>9793679.84</td>\n      <td>50.03178</td>\n      <td>14.50719</td>\n    </tr>\n    <tr>\n      <th>9</th>\n      <td>4</td>\n      <td>Praha 12</td>\n      <td>[[[-741829.710013561, -1051335.8699600995], [-...</td>\n      <td>23317909.06</td>\n      <td>50.00564</td>\n      <td>14.40462</td>\n    </tr>\n    <tr>\n      <th>18</th>\n      <td>11</td>\n      <td>Praha 13</td>\n      <td>[[[-750667.9699585326, -1047243.4200338311], [...</td>\n      <td>13196802.19</td>\n      <td>50.05163</td>\n      <td>14.34231</td>\n    </tr>\n  </tbody>\n</table>\n</div>", 
                        "text/plain": "    ID Neigborouhood                                           Geometry  \\\n1   43       Praha 1  [[[-743677.7200093269, -1043880.2599875033], [...   \n12   6      Praha 10  [[[-735234.4999993183, -1045758.7199782543], [...   \n26  15      Praha 11  [[[-734907.0599532239, -1049849.9600047208], [...   \n9    4      Praha 12  [[[-741829.710013561, -1051335.8699600995], [-...   \n18  11      Praha 13  [[[-750667.9699585326, -1047243.4200338311], [...   \n\n           Area  latitude  longitude  \n1    5538443.86  50.08728   14.41742  \n12  18599366.98  50.06055   14.55703  \n26   9793679.84  50.03178   14.50719  \n9   23317909.06  50.00564   14.40462  \n18  13196802.19  50.05163   14.34231  "
                    }, 
                    "output_type": "execute_result"
                }
            ], 
            "source": "df_prague.head()"
        }, 
        {
            "execution_count": 50, 
            "cell_type": "code", 
            "metadata": {}, 
            "outputs": [
                {
                    "ename": "AttributeError", 
                    "evalue": "module 'geopandas' has no attribute 'GeoDataFrame'", 
                    "traceback": [
                        "\u001b[0;31m---------------------------------------------------------------------------\u001b[0m", 
                        "\u001b[0;31mAttributeError\u001b[0m                            Traceback (most recent call last)", 
                        "\u001b[0;32m<ipython-input-50-41589bc7cadd>\u001b[0m in \u001b[0;36m<module>\u001b[0;34m\u001b[0m\n\u001b[0;32m----> 1\u001b[0;31m \u001b[0mmap_p\u001b[0m \u001b[0;34m=\u001b[0m \u001b[0mosm\u001b[0m\u001b[0;34m.\u001b[0m\u001b[0mgraph_from_point\u001b[0m\u001b[0;34m(\u001b[0m\u001b[0;34m(\u001b[0m\u001b[0mdf_prague\u001b[0m\u001b[0;34m[\u001b[0m\u001b[0;34m'latitude'\u001b[0m\u001b[0;34m]\u001b[0m\u001b[0;34m.\u001b[0m\u001b[0mloc\u001b[0m\u001b[0;34m[\u001b[0m\u001b[0;36m0\u001b[0m\u001b[0;34m]\u001b[0m\u001b[0;34m,\u001b[0m\u001b[0mdf_prague\u001b[0m\u001b[0;34m[\u001b[0m\u001b[0;34m'longitude'\u001b[0m\u001b[0;34m]\u001b[0m\u001b[0;34m.\u001b[0m\u001b[0mloc\u001b[0m\u001b[0;34m[\u001b[0m\u001b[0;36m0\u001b[0m\u001b[0;34m]\u001b[0m\u001b[0;34m)\u001b[0m\u001b[0;34m,\u001b[0m\u001b[0mdistance\u001b[0m\u001b[0;34m=\u001b[0m\u001b[0;36m1000\u001b[0m\u001b[0;34m,\u001b[0m \u001b[0mnetwork_type\u001b[0m\u001b[0;34m=\u001b[0m\u001b[0;34m'walk'\u001b[0m\u001b[0;34m)\u001b[0m\u001b[0;34m\u001b[0m\u001b[0;34m\u001b[0m\u001b[0m\n\u001b[0m\u001b[1;32m      2\u001b[0m \u001b[0mosm\u001b[0m\u001b[0;34m.\u001b[0m\u001b[0mplot_graph\u001b[0m\u001b[0;34m(\u001b[0m\u001b[0mmap_p\u001b[0m\u001b[0;34m)\u001b[0m\u001b[0;34m\u001b[0m\u001b[0;34m\u001b[0m\u001b[0m\n", 
                        "\u001b[0;32m/opt/conda/envs/Python36/lib/python3.6/site-packages/osmnx/core.py\u001b[0m in \u001b[0;36mgraph_from_point\u001b[0;34m(center_point, distance, distance_type, network_type, simplify, retain_all, truncate_by_edge, name, timeout, memory, max_query_area_size, clean_periphery, infrastructure, custom_filter)\u001b[0m\n\u001b[1;32m   1581\u001b[0m     \u001b[0;31m# create a bounding box from the center point and the distance in each\u001b[0m\u001b[0;34m\u001b[0m\u001b[0;34m\u001b[0m\u001b[0;34m\u001b[0m\u001b[0m\n\u001b[1;32m   1582\u001b[0m     \u001b[0;31m# direction\u001b[0m\u001b[0;34m\u001b[0m\u001b[0;34m\u001b[0m\u001b[0;34m\u001b[0m\u001b[0m\n\u001b[0;32m-> 1583\u001b[0;31m     \u001b[0mnorth\u001b[0m\u001b[0;34m,\u001b[0m \u001b[0msouth\u001b[0m\u001b[0;34m,\u001b[0m \u001b[0meast\u001b[0m\u001b[0;34m,\u001b[0m \u001b[0mwest\u001b[0m \u001b[0;34m=\u001b[0m \u001b[0mbbox_from_point\u001b[0m\u001b[0;34m(\u001b[0m\u001b[0mcenter_point\u001b[0m\u001b[0;34m,\u001b[0m \u001b[0mdistance\u001b[0m\u001b[0;34m)\u001b[0m\u001b[0;34m\u001b[0m\u001b[0;34m\u001b[0m\u001b[0m\n\u001b[0m\u001b[1;32m   1584\u001b[0m \u001b[0;34m\u001b[0m\u001b[0m\n\u001b[1;32m   1585\u001b[0m     \u001b[0;31m# create a graph from the bounding box\u001b[0m\u001b[0;34m\u001b[0m\u001b[0;34m\u001b[0m\u001b[0;34m\u001b[0m\u001b[0m\n", 
                        "\u001b[0;32m/opt/conda/envs/Python36/lib/python3.6/site-packages/osmnx/core.py\u001b[0m in \u001b[0;36mbbox_from_point\u001b[0;34m(point, distance, project_utm, return_crs)\u001b[0m\n\u001b[1;32m   1397\u001b[0m     \u001b[0;31m# project to UTM and buffer in meters\u001b[0m\u001b[0;34m\u001b[0m\u001b[0;34m\u001b[0m\u001b[0;34m\u001b[0m\u001b[0m\n\u001b[1;32m   1398\u001b[0m     \u001b[0mlat\u001b[0m\u001b[0;34m,\u001b[0m \u001b[0mlng\u001b[0m \u001b[0;34m=\u001b[0m \u001b[0mpoint\u001b[0m\u001b[0;34m\u001b[0m\u001b[0;34m\u001b[0m\u001b[0m\n\u001b[0;32m-> 1399\u001b[0;31m     \u001b[0mpoint_proj\u001b[0m\u001b[0;34m,\u001b[0m \u001b[0mcrs_proj\u001b[0m \u001b[0;34m=\u001b[0m \u001b[0mproject_geometry\u001b[0m\u001b[0;34m(\u001b[0m\u001b[0mPoint\u001b[0m\u001b[0;34m(\u001b[0m\u001b[0;34m(\u001b[0m\u001b[0mlng\u001b[0m\u001b[0;34m,\u001b[0m \u001b[0mlat\u001b[0m\u001b[0;34m)\u001b[0m\u001b[0;34m)\u001b[0m\u001b[0;34m)\u001b[0m\u001b[0;34m\u001b[0m\u001b[0;34m\u001b[0m\u001b[0m\n\u001b[0m\u001b[1;32m   1400\u001b[0m     \u001b[0mbuffer_proj\u001b[0m \u001b[0;34m=\u001b[0m \u001b[0mpoint_proj\u001b[0m\u001b[0;34m.\u001b[0m\u001b[0mbuffer\u001b[0m\u001b[0;34m(\u001b[0m\u001b[0mdistance\u001b[0m\u001b[0;34m)\u001b[0m\u001b[0;34m\u001b[0m\u001b[0;34m\u001b[0m\u001b[0m\n\u001b[1;32m   1401\u001b[0m \u001b[0;34m\u001b[0m\u001b[0m\n", 
                        "\u001b[0;32m/opt/conda/envs/Python36/lib/python3.6/site-packages/osmnx/projection.py\u001b[0m in \u001b[0;36mproject_geometry\u001b[0;34m(geometry, crs, to_crs, to_latlong)\u001b[0m\n\u001b[1;32m     46\u001b[0m         \u001b[0mcrs\u001b[0m \u001b[0;34m=\u001b[0m \u001b[0msettings\u001b[0m\u001b[0;34m.\u001b[0m\u001b[0mdefault_crs\u001b[0m\u001b[0;34m\u001b[0m\u001b[0;34m\u001b[0m\u001b[0m\n\u001b[1;32m     47\u001b[0m \u001b[0;34m\u001b[0m\u001b[0m\n\u001b[0;32m---> 48\u001b[0;31m     \u001b[0mgdf\u001b[0m \u001b[0;34m=\u001b[0m \u001b[0mgpd\u001b[0m\u001b[0;34m.\u001b[0m\u001b[0mGeoDataFrame\u001b[0m\u001b[0;34m(\u001b[0m\u001b[0;34m)\u001b[0m\u001b[0;34m\u001b[0m\u001b[0;34m\u001b[0m\u001b[0m\n\u001b[0m\u001b[1;32m     49\u001b[0m     \u001b[0mgdf\u001b[0m\u001b[0;34m.\u001b[0m\u001b[0mcrs\u001b[0m \u001b[0;34m=\u001b[0m \u001b[0mcrs\u001b[0m\u001b[0;34m\u001b[0m\u001b[0;34m\u001b[0m\u001b[0m\n\u001b[1;32m     50\u001b[0m     \u001b[0mgdf\u001b[0m\u001b[0;34m.\u001b[0m\u001b[0mgdf_name\u001b[0m \u001b[0;34m=\u001b[0m \u001b[0;34m'geometry to project'\u001b[0m\u001b[0;34m\u001b[0m\u001b[0;34m\u001b[0m\u001b[0m\n", 
                        "\u001b[0;31mAttributeError\u001b[0m: module 'geopandas' has no attribute 'GeoDataFrame'"
                    ], 
                    "output_type": "error"
                }
            ], 
            "source": "map_p = osm.graph_from_point((df_prague['latitude'].loc[0],df_prague['longitude'].loc[0]),distance=1000, network_type='walk')\nosm.plot_graph(map_p)"
        }, 
        {
            "execution_count": null, 
            "cell_type": "code", 
            "metadata": {}, 
            "outputs": [], 
            "source": ""
        }
    ], 
    "metadata": {
        "kernelspec": {
            "display_name": "Python 3.6", 
            "name": "python3", 
            "language": "python"
        }, 
        "language_info": {
            "mimetype": "text/x-python", 
            "nbconvert_exporter": "python", 
            "version": "3.6.8", 
            "name": "python", 
            "file_extension": ".py", 
            "pygments_lexer": "ipython3", 
            "codemirror_mode": {
                "version": 3, 
                "name": "ipython"
            }
        }
    }, 
    "nbformat": 4
}